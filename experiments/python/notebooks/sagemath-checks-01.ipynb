{
 "cells": [
  {
   "cell_type": "code",
   "execution_count": 1,
   "id": "c7a9cf34-db39-49a0-a30c-2e57cb3f7a09",
   "metadata": {},
   "outputs": [],
   "source": [
    "%load_ext blackcellmagic"
   ]
  },
  {
   "cell_type": "code",
   "execution_count": 2,
   "id": "f2847e16-7252-4008-af77-dfb8a0861a0e",
   "metadata": {},
   "outputs": [
    {
     "data": {
      "text/html": [
       "<html>\\[\\newcommand{\\Bold}[1]{\\mathbf{#1}}\\frac{c_{1}}{c_{2}}\\]</html>"
      ],
      "text/latex": [
       "$$\\newcommand{\\Bold}[1]{\\mathbf{#1}}\\frac{c_{1}}{c_{2}}$$"
      ],
      "text/plain": [
       "c_1/c_2"
      ]
     },
     "metadata": {},
     "output_type": "display_data"
    }
   ],
   "source": [
    "t = var('t')\n",
    "v = var('c_1', domain='positive')\n",
    "b = var('c_2', domain='positive')\n",
    "f = c_1 * exp(-(c_2)*t)\n",
    "show(f.integral(t, 0, infinity))"
   ]
  },
  {
   "cell_type": "markdown",
   "id": "f4f9db28-5fa2-4159-ba50-1059fcbf1df7",
   "metadata": {
    "tags": []
   },
   "source": [
    "# Moment generating function - Gaussian"
   ]
  },
  {
   "cell_type": "code",
   "execution_count": 3,
   "id": "47512c3a-3e36-49cf-90a1-0c6e76bb3fda",
   "metadata": {
    "tags": []
   },
   "outputs": [
    {
     "data": {
      "text/html": [
       "<html>\\[\\newcommand{\\Bold}[1]{\\mathbf{#1}}\\frac{\\sqrt{2} e^{\\left(-\\frac{{\\left(\\mu - x\\right)}^{2}}{2 \\, \\sigma^{2}}\\right)}}{2 \\, \\sqrt{\\pi} \\sigma}\\]</html>"
      ],
      "text/latex": [
       "$$\\newcommand{\\Bold}[1]{\\mathbf{#1}}\\frac{\\sqrt{2} e^{\\left(-\\frac{{\\left(\\mu - x\\right)}^{2}}{2 \\, \\sigma^{2}}\\right)}}{2 \\, \\sqrt{\\pi} \\sigma}$$"
      ],
      "text/plain": [
       "1/2*sqrt(2)*e^(-1/2*(mu - x)^2/sigma^2)/(sqrt(pi)*sigma)"
      ]
     },
     "metadata": {},
     "output_type": "display_data"
    }
   ],
   "source": [
    "var('mu, sigma')\n",
    "assume(sigma>0)\n",
    "assume(mu, 'real')\n",
    "f(x) = 1/(sigma*sqrt(2*pi)) * exp(-(x-mu)^2/(2*sigma^2))\n",
    "show(f(x))"
   ]
  },
  {
   "cell_type": "code",
   "execution_count": 4,
   "id": "a3750eed-41ec-41ee-8438-569e1dcf9e00",
   "metadata": {},
   "outputs": [
    {
     "data": {
      "text/html": [
       "<html>\\[\\newcommand{\\Bold}[1]{\\mathbf{#1}}e^{\\left(\\frac{1}{2} \\, \\sigma^{2} t^{2} + \\mu t\\right)}\\]</html>"
      ],
      "text/latex": [
       "$$\\newcommand{\\Bold}[1]{\\mathbf{#1}}e^{\\left(\\frac{1}{2} \\, \\sigma^{2} t^{2} + \\mu t\\right)}$$"
      ],
      "text/plain": [
       "e^(1/2*sigma^2*t^2 + mu*t)"
      ]
     },
     "metadata": {},
     "output_type": "display_data"
    }
   ],
   "source": [
    "# Moment-generating function M(t) = E(e^{Xt})\n",
    "var('t')\n",
    "assume(t > 0)\n",
    "f(x) \n",
    "M(t) = simplify(integrate(exp(x*t)*f(x),x,-Infinity,Infinity))\n",
    "show(M(t))"
   ]
  },
  {
   "cell_type": "code",
   "execution_count": 5,
   "id": "7ed6b3eb-d455-4c33-b36a-702ca3db1ce7",
   "metadata": {},
   "outputs": [
    {
     "data": {
      "text/html": [
       "<html>\\[\\newcommand{\\Bold}[1]{\\mathbf{#1}}\\mu\\]</html>"
      ],
      "text/latex": [
       "$$\\newcommand{\\Bold}[1]{\\mathbf{#1}}\\mu$$"
      ],
      "text/plain": [
       "mu"
      ]
     },
     "metadata": {},
     "output_type": "display_data"
    }
   ],
   "source": [
    "e_x = integrate(x*f(x),x,-Infinity,Infinity)\n",
    "show(simplify(e_x))"
   ]
  },
  {
   "cell_type": "code",
   "execution_count": 6,
   "id": "ee7ac0e6-37e5-43f2-934e-ffe234bf9819",
   "metadata": {},
   "outputs": [
    {
     "data": {
      "text/html": [
       "<html>\\[\\newcommand{\\Bold}[1]{\\mathbf{#1}}\\sigma^{2}\\]</html>"
      ],
      "text/latex": [
       "$$\\newcommand{\\Bold}[1]{\\mathbf{#1}}\\sigma^{2}$$"
      ],
      "text/plain": [
       "sigma^2"
      ]
     },
     "metadata": {},
     "output_type": "display_data"
    }
   ],
   "source": [
    "assume(sigma>0)\n",
    "assume(mu > 0) # Not sure why we need this\n",
    "v_x = integrate((x-mu)^2*f(x),x,-oo,oo)\n",
    "show(simplify(v_x))"
   ]
  },
  {
   "cell_type": "code",
   "execution_count": 7,
   "id": "b4e83e1f-ca7a-4a76-9014-61ca779166fb",
   "metadata": {},
   "outputs": [
    {
     "data": {
      "text/html": [
       "<html>\\[\\newcommand{\\Bold}[1]{\\mathbf{#1}}\\mu^{2} + \\sigma^{2}\\]</html>"
      ],
      "text/latex": [
       "$$\\newcommand{\\Bold}[1]{\\mathbf{#1}}\\mu^{2} + \\sigma^{2}$$"
      ],
      "text/plain": [
       "mu^2 + sigma^2"
      ]
     },
     "metadata": {},
     "output_type": "display_data"
    }
   ],
   "source": [
    "# Differentiate four times, set t=0 to get E(X^4)\n",
    "e_x_2 = derivative(M(t),t,2)(t=0)\n",
    "show(e_x_2)"
   ]
  },
  {
   "cell_type": "code",
   "execution_count": 8,
   "id": "818220a5-4525-426b-8fe0-178835d42c53",
   "metadata": {},
   "outputs": [
    {
     "data": {
      "text/html": [
       "<html>\\[\\newcommand{\\Bold}[1]{\\mathbf{#1}}\\mu^{4} + 6 \\, \\mu^{2} \\sigma^{2} + 3 \\, \\sigma^{4}\\]</html>"
      ],
      "text/latex": [
       "$$\\newcommand{\\Bold}[1]{\\mathbf{#1}}\\mu^{4} + 6 \\, \\mu^{2} \\sigma^{2} + 3 \\, \\sigma^{4}$$"
      ],
      "text/plain": [
       "mu^4 + 6*mu^2*sigma^2 + 3*sigma^4"
      ]
     },
     "metadata": {},
     "output_type": "display_data"
    }
   ],
   "source": [
    "# Differentiate four times, set t=0 to get E(X^4)\n",
    "e_x_4 = derivative(M(t),t,4)(t=0)\n",
    "show(e_x_4)"
   ]
  },
  {
   "cell_type": "code",
   "execution_count": 9,
   "id": "4f4036ee-e3e3-492e-837a-3af8f6fb9c7c",
   "metadata": {},
   "outputs": [
    {
     "data": {
      "text/html": [
       "<html>\\[\\newcommand{\\Bold}[1]{\\mathbf{#1}}4 \\, \\mu^{2} \\sigma^{2} + 2 \\, \\sigma^{4}\\]</html>"
      ],
      "text/latex": [
       "$$\\newcommand{\\Bold}[1]{\\mathbf{#1}}4 \\, \\mu^{2} \\sigma^{2} + 2 \\, \\sigma^{4}$$"
      ],
      "text/plain": [
       "4*mu^2*sigma^2 + 2*sigma^4"
      ]
     },
     "metadata": {},
     "output_type": "display_data"
    }
   ],
   "source": [
    "var_t = e_x_4 - e_x_2^(2)\n",
    "show(expand(var_t))"
   ]
  },
  {
   "cell_type": "code",
   "execution_count": 10,
   "id": "d1895fd1-a12c-4691-8c9d-696050af11b3",
   "metadata": {},
   "outputs": [
    {
     "data": {
      "text/html": [
       "<html>\\[\\newcommand{\\Bold}[1]{\\mathbf{#1}}16 \\, \\mu^{2} \\sigma^{2} + 20 \\, \\sigma^{4}\\]</html>"
      ],
      "text/latex": [
       "$$\\newcommand{\\Bold}[1]{\\mathbf{#1}}16 \\, \\mu^{2} \\sigma^{2} + 20 \\, \\sigma^{4}$$"
      ],
      "text/plain": [
       "16*mu^2*sigma^2 + 20*sigma^4"
      ]
     },
     "metadata": {},
     "output_type": "display_data"
    }
   ],
   "source": [
    "show(expand(16*(mu^2 + sigma^2)*sigma^2 + 4*sigma^4))"
   ]
  },
  {
   "cell_type": "code",
   "execution_count": 11,
   "id": "901d45db-3f0e-441a-be95-d62cf4d4a3c4",
   "metadata": {},
   "outputs": [],
   "source": [
    "variance = 1\n",
    "gaussian = RealDistribution('gaussian', variance)"
   ]
  },
  {
   "cell_type": "code",
   "execution_count": 12,
   "id": "a1ebc5a2-aae8-4364-9a93-fe470bdb19ce",
   "metadata": {},
   "outputs": [
    {
     "data": {
      "text/plain": [
       "1.0"
      ]
     },
     "execution_count": 12,
     "metadata": {},
     "output_type": "execute_result"
    }
   ],
   "source": [
    "gaussian.cum_distribution_function(Infinity)"
   ]
  },
  {
   "cell_type": "code",
   "execution_count": null,
   "id": "fb0fbad5-0382-4452-babf-91301a09ae6f",
   "metadata": {},
   "outputs": [],
   "source": []
  },
  {
   "cell_type": "markdown",
   "id": "0f718ed2-575e-4a25-ba4c-f65a803d9ed8",
   "metadata": {
    "tags": []
   },
   "source": [
    "# Gaussian distribution"
   ]
  },
  {
   "cell_type": "markdown",
   "id": "36e62f9a-8d2c-4da3-9a91-a69358f08123",
   "metadata": {},
   "source": [
    "## Setup the PDF of a univariate $X \\sim \\mathcal{N}(\\mu,\\sigma^{2})$ distributed random variable\n",
    "\n",
    "**Credits:**\n",
    "- This uses [these slides}(http://www.utstat.utoronto.ca/~brunner/workshops/sagemath/SageMathIntro.pdf) from Prof. Jerry Bruner on Sagemath in Statistics"
   ]
  },
  {
   "cell_type": "markdown",
   "id": "73f1e3b9-310b-4f22-8e6d-a09be9f79438",
   "metadata": {},
   "source": [
    "var('mu, sigma')\n",
    "assume(sigma > 0)\n",
    "assume(mu, 'real')\n",
    "f(x) = simplify(1/(sigma*sqrt(2*pi)) * exp(-(x-mu)^2/(2*sigma^2)))\n",
    "show(f(x))"
   ]
  },
  {
   "cell_type": "code",
   "execution_count": 13,
   "id": "98e9b162-3f48-4029-91f2-ad966fe49cc0",
   "metadata": {},
   "outputs": [
    {
     "data": {
      "text/html": [
       "<html>\\[\\newcommand{\\Bold}[1]{\\mathbf{#1}}\\frac{\\sqrt{2} e^{\\left(-\\frac{1}{2} \\, x^{2}\\right)}}{2 \\, \\sqrt{\\pi}}\\]</html>"
      ],
      "text/latex": [
       "$$\\newcommand{\\Bold}[1]{\\mathbf{#1}}\\frac{\\sqrt{2} e^{\\left(-\\frac{1}{2} \\, x^{2}\\right)}}{2 \\, \\sqrt{\\pi}}$$"
      ],
      "text/plain": [
       "1/2*sqrt(2)*e^(-1/2*x^2)/sqrt(pi)"
      ]
     },
     "metadata": {},
     "output_type": "display_data"
    }
   ],
   "source": [
    "var('x')\n",
    "assume(x, 'real')\n",
    "f(x) = simplify(1/(sqrt(2*pi)) * exp(-(x)^2/(2)))\n",
    "show(f(x))"
   ]
  },
  {
   "cell_type": "markdown",
   "id": "db7c246e-5b61-4547-9868-5cf54788e6cf",
   "metadata": {},
   "source": [
    "Looks like that is working, though with a rational numerator. But that is fine."
   ]
  },
  {
   "cell_type": "markdown",
   "id": "ba958c06-38bb-4d59-8204-eaba3c00eeae",
   "metadata": {},
   "source": [
    "## Setup the CDF of a univariate $X \\sim \\mathcal{N}(\\mu,\\sigma^{2})$ distributed random variable"
   ]
  },
  {
   "cell_type": "code",
   "execution_count": 14,
   "id": "115291da-d196-4186-9784-dd770b3d0dd1",
   "metadata": {},
   "outputs": [
    {
     "data": {
      "text/html": [
       "<html>\\[\\newcommand{\\Bold}[1]{\\mathbf{#1}}\\frac{\\sqrt{2} {\\left(\\sqrt{2} \\sqrt{\\pi} \\operatorname{erf}\\left(\\frac{1}{2} \\, \\sqrt{2} x\\right) + \\sqrt{2} \\sqrt{\\pi}\\right)}}{4 \\, \\sqrt{\\pi}}\\]</html>"
      ],
      "text/latex": [
       "$$\\newcommand{\\Bold}[1]{\\mathbf{#1}}\\frac{\\sqrt{2} {\\left(\\sqrt{2} \\sqrt{\\pi} \\operatorname{erf}\\left(\\frac{1}{2} \\, \\sqrt{2} x\\right) + \\sqrt{2} \\sqrt{\\pi}\\right)}}{4 \\, \\sqrt{\\pi}}$$"
      ],
      "text/plain": [
       "1/4*sqrt(2)*(sqrt(2)*sqrt(pi)*erf(1/2*sqrt(2)*x) + sqrt(2)*sqrt(pi))/sqrt(pi)"
      ]
     },
     "metadata": {},
     "output_type": "display_data"
    }
   ],
   "source": [
    "F(x) = integrate(f(t),t,-Infinity,x)\n",
    "show(F(x))"
   ]
  },
  {
   "cell_type": "markdown",
   "id": "bba221ac-5eab-4b45-ad3a-3f469dc86610",
   "metadata": {},
   "source": [
    "This is in a slightly different form to what we typically use, i.e., just left in terms of the integral definition.\n",
    "\n",
    "Let's test it out at extreme points $x \\in {-\\infty, 0, \\infty}$."
   ]
  },
  {
   "cell_type": "code",
   "execution_count": 15,
   "id": "d38043bc-f3a1-42e9-a4e2-8f80b5139840",
   "metadata": {},
   "outputs": [
    {
     "name": "stdout",
     "output_type": "stream",
     "text": [
      "F(x) evaluated at x = -Inf: 0\n",
      "F(x) evaluated at x = 0: 1/2\n",
      "F(x) evaluated at x = Inf: 1\n"
     ]
    }
   ],
   "source": [
    "print(f\"F(x) evaluated at x = -Inf: {simplify(F(-Infinity))}\")\n",
    "print(f\"F(x) evaluated at x = 0: {simplify(F(0))}\")\n",
    "print(f\"F(x) evaluated at x = Inf: {simplify(F(Infinity))}\")"
   ]
  },
  {
   "cell_type": "markdown",
   "id": "c21acf9d-dabc-458e-ad5d-f69c2aa3d7bd",
   "metadata": {},
   "source": [
    "Looks like that is working as expected. We should really plot this function over it's support $[-\\infty, \\infty]$."
   ]
  },
  {
   "cell_type": "code",
   "execution_count": 16,
   "id": "751d4b66-c3c6-46cc-90e8-35235eaa4798",
   "metadata": {},
   "outputs": [
    {
     "data": {
      "image/png": "[encoded data removed]",
      "text/plain": [
       "Graphics object consisting of 1 graphics primitive"
      ]
     },
     "execution_count": 16,
     "metadata": {},
     "output_type": "execute_result"
    }
   ],
   "source": [
    "plot(F(x), x, (-5,5),\n",
    "     figsize=(4,4),\n",
    "     title=\"The CDF of N(0, 1)\",)"
   ]
  },
  {
   "cell_type": "markdown",
   "id": "c99045d5-6297-4197-8478-b3c015910f10",
   "metadata": {},
   "source": [
    "Looks reasonable! Let's keep going!"
   ]
  },
  {
   "cell_type": "markdown",
   "id": "9b461364-4f73-4c30-83d7-ab97d062794c",
   "metadata": {},
   "source": [
    "## Solving an inequality"
   ]
  },
  {
   "cell_type": "markdown",
   "id": "fb0c60de-8089-45a2-a478-1bfe46722a93",
   "metadata": {},
   "source": [
    "Let's define our function $g(\\nu) := \\sqrt{\\nu^{2}+\\frac{2}{\\pi}} - \\nu(2 \\Phi(\\nu)-1) - \\sqrt{\\frac{2}{\\pi}} e^{-\\nu^{2} / 2}$"
   ]
  },
  {
   "cell_type": "code",
   "execution_count": 17,
   "id": "8f16ce03-ebb2-424c-991d-292ba62a46ff",
   "metadata": {},
   "outputs": [
    {
     "data": {
      "text/html": [
       "<html>\\[\\newcommand{\\Bold}[1]{\\mathbf{#1}}-\\frac{1}{2} \\, {\\left(\\frac{\\sqrt{2} {\\left(\\sqrt{2} \\sqrt{\\pi} \\operatorname{erf}\\left(\\frac{1}{2} \\, \\sqrt{2} v\\right) + \\sqrt{2} \\sqrt{\\pi}\\right)}}{\\sqrt{\\pi}} - 2\\right)} v - \\frac{\\sqrt{2} e^{\\left(-\\frac{1}{2} \\, v^{2}\\right)}}{\\sqrt{\\pi}} + \\sqrt{v^{2} + \\frac{2}{\\pi}}\\]</html>"
      ],
      "text/latex": [
       "$$\\newcommand{\\Bold}[1]{\\mathbf{#1}}-\\frac{1}{2} \\, {\\left(\\frac{\\sqrt{2} {\\left(\\sqrt{2} \\sqrt{\\pi} \\operatorname{erf}\\left(\\frac{1}{2} \\, \\sqrt{2} v\\right) + \\sqrt{2} \\sqrt{\\pi}\\right)}}{\\sqrt{\\pi}} - 2\\right)} v - \\frac{\\sqrt{2} e^{\\left(-\\frac{1}{2} \\, v^{2}\\right)}}{\\sqrt{\\pi}} + \\sqrt{v^{2} + \\frac{2}{\\pi}}$$"
      ],
      "text/plain": [
       "-1/2*(sqrt(2)*(sqrt(2)*sqrt(pi)*erf(1/2*sqrt(2)*v) + sqrt(2)*sqrt(pi))/sqrt(pi) - 2)*v - sqrt(2)*e^(-1/2*v^2)/sqrt(pi) + sqrt(v^2 + 2/pi)"
      ]
     },
     "metadata": {},
     "output_type": "display_data"
    }
   ],
   "source": [
    "var('v')\n",
    "assume(v > 0) #TODO: check whether we want to try assume(v, 'real')\n",
    "g(v) = sqrt(v^(2) + 2/pi) - v * (2 * F(v) - 1) - sqrt(2/pi)*exp(-v^(2)/2)\n",
    "show(g(v))"
   ]
  },
  {
   "cell_type": "code",
   "execution_count": 18,
   "id": "426d1271-a856-4701-b9be-1001662f1a1c",
   "metadata": {},
   "outputs": [
    {
     "data": {
      "text/html": [
       "<html>\\[\\newcommand{\\Bold}[1]{\\mathbf{#1}}-\\frac{\\sqrt{2} {\\left(\\sqrt{2} \\sqrt{\\pi} \\operatorname{erf}\\left(\\frac{1}{2} \\, \\sqrt{2} v\\right) + \\sqrt{2} \\sqrt{\\pi}\\right)}}{2 \\, \\sqrt{\\pi}} + \\frac{v}{\\sqrt{v^{2} + \\frac{2}{\\pi}}} + 1\\]</html>"
      ],
      "text/latex": [
       "$$\\newcommand{\\Bold}[1]{\\mathbf{#1}}-\\frac{\\sqrt{2} {\\left(\\sqrt{2} \\sqrt{\\pi} \\operatorname{erf}\\left(\\frac{1}{2} \\, \\sqrt{2} v\\right) + \\sqrt{2} \\sqrt{\\pi}\\right)}}{2 \\, \\sqrt{\\pi}} + \\frac{v}{\\sqrt{v^{2} + \\frac{2}{\\pi}}} + 1$$"
      ],
      "text/plain": [
       "-1/2*sqrt(2)*(sqrt(2)*sqrt(pi)*erf(1/2*sqrt(2)*v) + sqrt(2)*sqrt(pi))/sqrt(pi) + v/sqrt(v^2 + 2/pi) + 1"
      ]
     },
     "metadata": {},
     "output_type": "display_data"
    }
   ],
   "source": [
    "g_d_1(v) = derivative(g(v), v, 1)\n",
    "show(simplify(g_d_1(v)))"
   ]
  },
  {
   "cell_type": "markdown",
   "id": "7b269bb8-8c3a-434f-a7e7-ab2438d912d8",
   "metadata": {},
   "source": [
    "Let's check the largest term, is equivalent to $-2 \\Phi(v)$, as per our hand calculations. \n",
    "So we can just check that the $g^{\\prime}(v) - 1 - \\frac{v}{\\sqrt{v^2 + \\frac{2}{pi}}} = - 2 \\Phi(v)$"
   ]
  },
  {
   "cell_type": "code",
   "execution_count": 19,
   "id": "30301d3c-8669-4fbd-b4e9-ed590e785abe",
   "metadata": {},
   "outputs": [
    {
     "data": {
      "text/html": [
       "<html>\\[\\newcommand{\\Bold}[1]{\\mathbf{#1}}0\\]</html>"
      ],
      "text/latex": [
       "$$\\newcommand{\\Bold}[1]{\\mathbf{#1}}0$$"
      ],
      "text/plain": [
       "0"
      ]
     },
     "metadata": {},
     "output_type": "display_data"
    }
   ],
   "source": [
    "show(simplify(g_d_1(v) - v/(sqrt(v^(2) + 2/pi)) - 1 + 2 * F(v)))"
   ]
  },
  {
   "cell_type": "markdown",
   "id": "0dbc98cd-debc-44c9-9b4f-e9d4367e5eab",
   "metadata": {},
   "source": [
    "This seems to reconcile the hand calculations, which is a good.\n",
    "Let's try solving $g^{\\prime}(v) = 0$, to get the possible global and local extrema."
   ]
  },
  {
   "cell_type": "code",
   "execution_count": 20,
   "id": "284f737a-08a2-4314-8d16-c59b06ecde9a",
   "metadata": {},
   "outputs": [
    {
     "data": {
      "text/plain": [
       "[v == sqrt((pi*v^2 + 2)/pi)*erf(1/2*sqrt(2)*v)]"
      ]
     },
     "execution_count": 20,
     "metadata": {},
     "output_type": "execute_result"
    }
   ],
   "source": [
    "solve(simplify(g_d_1(v)) == 0, v)"
   ]
  },
  {
   "cell_type": "markdown",
   "id": "a2f5171b-db9c-4825-834a-9bdf56c99d1e",
   "metadata": {},
   "source": [
    "This is not so useful, but we can now analyze the solution in more detail.\n",
    "\n",
    "In particular, lets look at the limiting behaviour of $g^{\\prime}(v)$ as $v \\to 0^{+}$ and $v \\to + \\infty$"
   ]
  },
  {
   "cell_type": "code",
   "execution_count": 21,
   "id": "522d27b8-554f-427e-b55f-4cbff6840ad6",
   "metadata": {},
   "outputs": [
    {
     "name": "stdout",
     "output_type": "stream",
     "text": [
      "One extrema occurs at v = 0, i.e., implify(limit(g_d_1(v), v=0, dir='+')): 0\n",
      "One extrema occurs at v = Inf, i.e., limit(g_d_1(v), v=Infinity): 0\n"
     ]
    }
   ],
   "source": [
    "print(f\"One extrema occurs at v = 0, i.e., implify(limit(g_d_1(v), v=0, dir='+')): {simplify(limit(g_d_1(v), v=0, dir='+'))}\")\n",
    "print(f\"One extrema occurs at v = Inf, i.e., limit(g_d_1(v), v=Infinity): {limit(g_d_1(v), v=Infinity)}\")"
   ]
  },
  {
   "cell_type": "markdown",
   "id": "b7b1d1f9-5716-4a24-8efc-16032b887050",
   "metadata": {},
   "source": [
    "Indeed, they are both 0, and global extrema."
   ]
  },
  {
   "cell_type": "code",
   "execution_count": 22,
   "id": "d2c707e1-deef-442d-9a65-33a44bd12472",
   "metadata": {},
   "outputs": [
    {
     "data": {
      "text/html": [
       "<html>\\[\\newcommand{\\Bold}[1]{\\mathbf{#1}}-\\frac{\\sqrt{2} e^{\\left(-\\frac{1}{2} \\, v^{2}\\right)}}{\\sqrt{\\pi}} - \\frac{v^{2}}{{\\left(v^{2} + \\frac{2}{\\pi}\\right)}^{\\frac{3}{2}}} + \\frac{1}{\\sqrt{v^{2} + \\frac{2}{\\pi}}}\\]</html>"
      ],
      "text/latex": [
       "$$\\newcommand{\\Bold}[1]{\\mathbf{#1}}-\\frac{\\sqrt{2} e^{\\left(-\\frac{1}{2} \\, v^{2}\\right)}}{\\sqrt{\\pi}} - \\frac{v^{2}}{{\\left(v^{2} + \\frac{2}{\\pi}\\right)}^{\\frac{3}{2}}} + \\frac{1}{\\sqrt{v^{2} + \\frac{2}{\\pi}}}$$"
      ],
      "text/plain": [
       "-sqrt(2)*e^(-1/2*v^2)/sqrt(pi) - v^2/(v^2 + 2/pi)^(3/2) + 1/sqrt(v^2 + 2/pi)"
      ]
     },
     "metadata": {},
     "output_type": "display_data"
    }
   ],
   "source": [
    "g_d_2(v) = derivative(g(v), v, 2)\n",
    "show(simplify(g_d_2(v)))"
   ]
  },
  {
   "cell_type": "markdown",
   "id": "105857ef-4475-4e9b-bd01-3859186f1ada",
   "metadata": {},
   "source": [
    "First observe that the function $h(v) = 2\\Phi(v) - 1 = 2(\\Phi(v) - \\Phi(0))$ for each $v \\in \\mathbf{R}$, is concave, and twice differentiable. \n",
    "\n",
    "It is thus bounded by it's first derivative:\n",
    "\n",
    "\n",
    "\\begin{align*}\n",
    "    h(y) \n",
    "    & \\leq h(x) + h^{\\prime}(x) (y - x) \\text{, for all $x, y \\in \\mathbf{R}$} \\\\\n",
    "\\implies h(v)\n",
    "    & \\leq h(0) + h^{\\prime}(0) (v) \\text{, for all $v \\in \\mathbf{R}$} \\\\\n",
    "\\iff h(v)\n",
    "    & = 2(\\Phi(v) - \\Phi(0)) \\\\\n",
    "    & \\leq h(0) + h^{\\prime}(0) (v) \\text{, for all $v \\in \\mathbf{R}$} \\\\\n",
    "    & \\leq 2 v \\phi(0) \\text{, for all $v \\in \\mathbf{R}$}        \n",
    "\\end{align*}"
   ]
  },
  {
   "cell_type": "code",
   "execution_count": 23,
   "id": "0df98741-78bc-4606-b45c-4ffc0ef73511",
   "metadata": {},
   "outputs": [
    {
     "data": {
      "text/html": [
       "<html>\\[\\newcommand{\\Bold}[1]{\\mathbf{#1}}0\\]</html>"
      ],
      "text/latex": [
       "$$\\newcommand{\\Bold}[1]{\\mathbf{#1}}0$$"
      ],
      "text/plain": [
       "0"
      ]
     },
     "metadata": {},
     "output_type": "display_data"
    }
   ],
   "source": [
    "h(v) = 2 * F(v) - 1\n",
    "h_d_1 = derivative(h(v), v, Integer(1))\n",
    "# show(simplify(v*h_d_1(0)))\n",
    "show(simplify(v*h_d_1).substitute(v = 0))"
   ]
  },
  {
   "cell_type": "markdown",
   "id": "45ecfe00-e122-4cfb-93ab-1d59cb5e3a32",
   "metadata": {},
   "source": [
    "# Lemma 20"
   ]
  },
  {
   "cell_type": "markdown",
   "id": "81ad6747-0f8c-4312-95bd-90d260158111",
   "metadata": {},
   "source": [
    "## Define variables"
   ]
  },
  {
   "cell_type": "code",
   "execution_count": 24,
   "id": "cb5eb340-dfb6-43af-a67c-a38cbf57b952",
   "metadata": {},
   "outputs": [],
   "source": [
    "var('mu, sigma, C, n, gamma')\n",
    "assume(sigma > 0)\n",
    "assume(C > 0)\n",
    "assume(mu, 'real')\n",
    "assume(n, 'integer')\n",
    "assume(n > 0)\n",
    "assume(gamma, 'real')\n",
    "assume(gamma > 0)\n",
    "# assumptions()"
   ]
  },
  {
   "cell_type": "markdown",
   "id": "ec329a95-9e0d-450a-a692-f09cdd5c68de",
   "metadata": {},
   "source": [
    "Let us define the upper bound, which is a function of $t$. That is\n",
    "\\begin{equation}\n",
    "f(t) = \\frac{16C \\sigma^2 + 20 \\sigma^4}{n t^2}\n",
    "\\end{equation}\n",
    "\n",
    "We will solve this for $t$, such that $f(t) = \\gamma$ and also $f(t) = \\gamma^{2}$ if that makes later parametrization easier."
   ]
  },
  {
   "cell_type": "markdown",
   "id": "4292df66-bee7-43c9-b104-375531f2ae8c",
   "metadata": {
    "tags": []
   },
   "source": [
    "### Solve $t$, such that $f(t) = \\gamma$"
   ]
  },
  {
   "cell_type": "code",
   "execution_count": 25,
   "id": "af6c8c1b-75d5-4768-b9c3-b9f8b23e26b3",
   "metadata": {},
   "outputs": [
    {
     "data": {
      "text/html": [
       "<html>\\[\\newcommand{\\Bold}[1]{\\mathbf{#1}}\\left[t = 2 \\, \\sigma \\sqrt{\\frac{5 \\, \\sigma^{2}}{\\gamma n} + \\frac{4 \\, C}{\\gamma n}}\\right]\\]</html>"
      ],
      "text/latex": [
       "$$\\newcommand{\\Bold}[1]{\\mathbf{#1}}\\left[t = 2 \\, \\sigma \\sqrt{\\frac{5 \\, \\sigma^{2}}{\\gamma n} + \\frac{4 \\, C}{\\gamma n}}\\right]$$"
      ],
      "text/plain": [
       "[t == 2*sigma*sqrt(5*sigma^2/(gamma*n) + 4*C/(gamma*n))]"
      ]
     },
     "metadata": {},
     "output_type": "display_data"
    }
   ],
   "source": [
    "f(t) = (16 * C * sigma^2 + 20 * sigma^4)/(n * t^2)\n",
    "show(solve([f(t) - gamma == 0], t))"
   ]
  },
  {
   "cell_type": "markdown",
   "id": "48138797-100b-423e-af31-bef45dd74c4a",
   "metadata": {},
   "source": [
    "### Solve $t$, such that $f(t) = \\gamma^{2}$"
   ]
  },
  {
   "cell_type": "code",
   "execution_count": 26,
   "id": "d8a8aa9c-ccae-4cf3-aeda-712a6a19c9a7",
   "metadata": {},
   "outputs": [
    {
     "data": {
      "text/html": [
       "<html>\\[\\newcommand{\\Bold}[1]{\\mathbf{#1}}\\left[t = \\frac{2 \\, \\sigma \\sqrt{\\frac{5 \\, \\sigma^{2}}{n} + \\frac{4 \\, C}{n}}}{\\gamma}\\right]\\]</html>"
      ],
      "text/latex": [
       "$$\\newcommand{\\Bold}[1]{\\mathbf{#1}}\\left[t = \\frac{2 \\, \\sigma \\sqrt{\\frac{5 \\, \\sigma^{2}}{n} + \\frac{4 \\, C}{n}}}{\\gamma}\\right]$$"
      ],
      "text/plain": [
       "[t == 2*sigma*sqrt(5*sigma^2/n + 4*C/n)/gamma]"
      ]
     },
     "metadata": {},
     "output_type": "display_data"
    }
   ],
   "source": [
    "f(t) = (16 * C * sigma^2 + 20 * sigma^4)/(n * t^2)\n",
    "show(solve([f(t) - gamma^2 == 0], t))\n",
    "# latex(solve([f(t) - gamma^2 == 0], t))"
   ]
  },
  {
   "cell_type": "markdown",
   "id": "58f7734b-72a6-45ef-a645-0da32d3217c3",
   "metadata": {},
   "source": [
    "### Solve $t$, such that $f(t) = \\frac{1}{\\gamma^{2}}$"
   ]
  },
  {
   "cell_type": "code",
   "execution_count": 27,
   "id": "0bf63d66-9b65-4caa-b933-29281a8e1bd1",
   "metadata": {},
   "outputs": [
    {
     "data": {
      "text/html": [
       "<html>\\[\\newcommand{\\Bold}[1]{\\mathbf{#1}}\\left[t = 2 \\, \\gamma \\sigma \\sqrt{\\frac{5 \\, \\sigma^{2}}{n} + \\frac{4 \\, C}{n}}\\right]\\]</html>"
      ],
      "text/latex": [
       "$$\\newcommand{\\Bold}[1]{\\mathbf{#1}}\\left[t = 2 \\, \\gamma \\sigma \\sqrt{\\frac{5 \\, \\sigma^{2}}{n} + \\frac{4 \\, C}{n}}\\right]$$"
      ],
      "text/plain": [
       "[t == 2*gamma*sigma*sqrt(5*sigma^2/n + 4*C/n)]"
      ]
     },
     "metadata": {},
     "output_type": "display_data"
    }
   ],
   "source": [
    "f(t) = (16 * C * sigma^2 + 20 * sigma^4)/(n * t^2)\n",
    "show(solve([f(t) - 1/(gamma^2) == 0], t))\n",
    "# latex(solve([f(t) - gamma^2 == 0], t))"
   ]
  },
  {
   "cell_type": "code",
   "execution_count": 48,
   "id": "5c11988e-3fde-491f-912f-2d8ad4098c5b",
   "metadata": {},
   "outputs": [
    {
     "data": {
      "text/html": [
       "<html>\\[\\newcommand{\\Bold}[1]{\\mathbf{#1}}\\left[t = \\gamma \\sigma \\sqrt{\\frac{2 \\, \\sigma^{2}}{n} + \\frac{4 \\, C}{n}}\\right]\\]</html>"
      ],
      "text/latex": [
       "$$\\newcommand{\\Bold}[1]{\\mathbf{#1}}\\left[t = \\gamma \\sigma \\sqrt{\\frac{2 \\, \\sigma^{2}}{n} + \\frac{4 \\, C}{n}}\\right]$$"
      ],
      "text/plain": [
       "[t == gamma*sigma*sqrt(2*sigma^2/n + 4*C/n)]"
      ]
     },
     "metadata": {},
     "output_type": "display_data"
    }
   ],
   "source": [
    "j(t) = (4 * C * sigma^2 + 2 * sigma^4)/(n * t^2)\n",
    "show(solve([j(t) - 1/(gamma^2) == 0], t))"
   ]
  },
  {
   "cell_type": "code",
   "execution_count": 28,
   "id": "58be38c0-2dac-492e-bd1a-47c3043eef33",
   "metadata": {},
   "outputs": [],
   "source": [
    "g(x) = x^(-1/3)*(1 + log(x))"
   ]
  },
  {
   "cell_type": "markdown",
   "id": "a4273d25-d281-41cd-98df-93836cb772d0",
   "metadata": {},
   "source": [
    "Find the extrema value, i.e., where the first derivative is 0"
   ]
  },
  {
   "cell_type": "code",
   "execution_count": 29,
   "id": "42bebccd-cbbe-4cd6-8ff1-debe7e4fae83",
   "metadata": {},
   "outputs": [
    {
     "data": {
      "text/html": [
       "<html>\\[\\newcommand{\\Bold}[1]{\\mathbf{#1}}-\\frac{\\log\\left(x\\right) - 2}{3 \\, x^{\\frac{4}{3}}}\\]</html>"
      ],
      "text/latex": [
       "$$\\newcommand{\\Bold}[1]{\\mathbf{#1}}-\\frac{\\log\\left(x\\right) - 2}{3 \\, x^{\\frac{4}{3}}}$$"
      ],
      "text/plain": [
       "-1/3*(log(x) - 2)/x^(4/3)"
      ]
     },
     "metadata": {},
     "output_type": "display_data"
    }
   ],
   "source": [
    "show(diff(g(x), x, 1).full_simplify())"
   ]
  },
  {
   "cell_type": "code",
   "execution_count": 30,
   "id": "eba34753-4dbe-4f78-8684-307a19997cb4",
   "metadata": {},
   "outputs": [
    {
     "data": {
      "text/html": [
       "<html>\\[\\newcommand{\\Bold}[1]{\\mathbf{#1}}\\left[x = e^{2}\\right]\\]</html>"
      ],
      "text/latex": [
       "$$\\newcommand{\\Bold}[1]{\\mathbf{#1}}\\left[x = e^{2}\\right]$$"
      ],
      "text/plain": [
       "[x == e^2]"
      ]
     },
     "metadata": {},
     "output_type": "display_data"
    }
   ],
   "source": [
    "sol = solve(diff(g(x), x, 1) == 0, x)\n",
    "show(sol)"
   ]
  },
  {
   "cell_type": "markdown",
   "id": "3d6a34d9-7d76-406b-ae2f-756a58605c83",
   "metadata": {},
   "source": [
    "Check that the second derivative is negative at the identified extrema"
   ]
  },
  {
   "cell_type": "code",
   "execution_count": 31,
   "id": "104cb29c-218d-4251-8431-75710647d8dd",
   "metadata": {},
   "outputs": [
    {
     "data": {
      "text/html": [
       "<html>\\[\\newcommand{\\Bold}[1]{\\mathbf{#1}}\\frac{4 \\, \\log\\left(x\\right) - 11}{9 \\, x^{\\frac{7}{3}}}\\]</html>"
      ],
      "text/latex": [
       "$$\\newcommand{\\Bold}[1]{\\mathbf{#1}}\\frac{4 \\, \\log\\left(x\\right) - 11}{9 \\, x^{\\frac{7}{3}}}$$"
      ],
      "text/plain": [
       "1/9*(4*log(x) - 11)/x^(7/3)"
      ]
     },
     "metadata": {},
     "output_type": "display_data"
    }
   ],
   "source": [
    "latex(diff(g(x), x, 2).full_simplify())\n",
    "show(diff(g(x), x, 2).full_simplify())"
   ]
  },
  {
   "cell_type": "code",
   "execution_count": 32,
   "id": "342814af-caf6-41db-96c4-4c7137d7c04b",
   "metadata": {},
   "outputs": [
    {
     "data": {
      "text/html": [
       "<html>\\[\\newcommand{\\Bold}[1]{\\mathbf{#1}}-\\frac{1}{3} \\, e^{\\left(-\\frac{14}{3}\\right)}\\]</html>"
      ],
      "text/latex": [
       "$$\\newcommand{\\Bold}[1]{\\mathbf{#1}}-\\frac{1}{3} \\, e^{\\left(-\\frac{14}{3}\\right)}$$"
      ],
      "text/plain": [
       "-1/3*e^(-14/3)"
      ]
     },
     "metadata": {},
     "output_type": "display_data"
    },
    {
     "data": {
      "text/plain": [
       "True"
      ]
     },
     "execution_count": 32,
     "metadata": {},
     "output_type": "execute_result"
    }
   ],
   "source": [
    "show(diff(g(x), x, 2).substitute(sol))\n",
    "bool(diff(g(x), x, 2).substitute(sol) < 0)"
   ]
  },
  {
   "cell_type": "markdown",
   "id": "6b04b223-c310-4fad-ba85-8bc5f007383b",
   "metadata": {},
   "source": [
    "So we have found a global maximum value. Let's substitute back into the original function."
   ]
  },
  {
   "cell_type": "code",
   "execution_count": 33,
   "id": "23a1c014-01cd-4a6d-8220-275c7f7c6f30",
   "metadata": {},
   "outputs": [
    {
     "data": {
      "text/html": [
       "<html>\\[\\newcommand{\\Bold}[1]{\\mathbf{#1}}3 \\, e^{\\left(-\\frac{2}{3}\\right)}\\]</html>"
      ],
      "text/latex": [
       "$$\\newcommand{\\Bold}[1]{\\mathbf{#1}}3 \\, e^{\\left(-\\frac{2}{3}\\right)}$$"
      ],
      "text/plain": [
       "3*e^(-2/3)"
      ]
     },
     "metadata": {},
     "output_type": "display_data"
    }
   ],
   "source": [
    "show(g(x).substitute(sol))"
   ]
  },
  {
   "cell_type": "code",
   "execution_count": 34,
   "id": "e24237c8-85c5-4e95-925e-20e865cd72c1",
   "metadata": {},
   "outputs": [
    {
     "data": {
      "text/plain": [
       "(mu_1, mu_n, sigma_2, C_2)"
      ]
     },
     "execution_count": 34,
     "metadata": {},
     "output_type": "execute_result"
    }
   ],
   "source": [
    "var('mu_1,mu_n,sigma_2,C_2')"
   ]
  },
  {
   "cell_type": "code",
   "execution_count": 35,
   "id": "6dbfdad1-a3c6-4316-a4d0-df90e9ca9a3f",
   "metadata": {},
   "outputs": [
    {
     "data": {
      "text/html": [
       "<html>\\[\\newcommand{\\Bold}[1]{\\mathbf{#1}}6 \\, C_{2}^{2} \\sigma_{2}^{2} e^{\\left(-\\frac{2}{3}\\right)} + \\frac{27}{4} \\, \\left(C_{2} \\sigma_{2}\\right)^{\\frac{4}{3}} {\\left(-\\mu_{1} + \\mu_{n}\\right)}^{\\frac{2}{3}}\\]</html>"
      ],
      "text/latex": [
       "$$\\newcommand{\\Bold}[1]{\\mathbf{#1}}6 \\, C_{2}^{2} \\sigma_{2}^{2} e^{\\left(-\\frac{2}{3}\\right)} + \\frac{27}{4} \\, \\left(C_{2} \\sigma_{2}\\right)^{\\frac{4}{3}} {\\left(-\\mu_{1} + \\mu_{n}\\right)}^{\\frac{2}{3}}$$"
      ],
      "text/plain": [
       "6*C_2^2*sigma_2^2*e^(-2/3) + 27/4*(C_2*sigma_2)^(4/3)*(-mu_1 + mu_n)^(2/3)"
      ]
     },
     "metadata": {},
     "output_type": "display_data"
    }
   ],
   "source": [
    "upp_bound1 = (27/4)*((mu_n - mu_1)^(2/3))*(sigma_2 * C_2)^(4/3) + (6 * sigma_2^2 * C_2^2 * e^(-2/3))\n",
    "show(upp_bound1)"
   ]
  },
  {
   "cell_type": "code",
   "execution_count": 36,
   "id": "adda1433-5e15-4336-a493-16271be5e699",
   "metadata": {},
   "outputs": [
    {
     "data": {
      "text/html": [
       "<html>\\[\\newcommand{\\Bold}[1]{\\mathbf{#1}}6 \\, C_{2}^{2} \\sigma_{2}^{2} e^{\\left(-\\frac{2}{3}\\right)} + \\frac{27}{4} \\, \\left(C_{2} \\sigma_{2}\\right)^{\\frac{4}{3}} {\\left(-\\mu_{1} + \\mu_{n}\\right)}^{\\frac{2}{3}}\\]</html>"
      ],
      "text/latex": [
       "$$\\newcommand{\\Bold}[1]{\\mathbf{#1}}6 \\, C_{2}^{2} \\sigma_{2}^{2} e^{\\left(-\\frac{2}{3}\\right)} + \\frac{27}{4} \\, \\left(C_{2} \\sigma_{2}\\right)^{\\frac{4}{3}} {\\left(-\\mu_{1} + \\mu_{n}\\right)}^{\\frac{2}{3}}$$"
      ],
      "text/plain": [
       "6*C_2^2*sigma_2^2*e^(-2/3) + 27/4*(C_2*sigma_2)^(4/3)*(-mu_1 + mu_n)^(2/3)"
      ]
     },
     "metadata": {},
     "output_type": "display_data"
    }
   ],
   "source": [
    "# show(upp_bound1.full_simplify())\n",
    "show(upp_bound1.simplify())"
   ]
  },
  {
   "cell_type": "code",
   "execution_count": 37,
   "id": "28ce653c-165d-428a-b205-65ed52a7cb6f",
   "metadata": {},
   "outputs": [
    {
     "data": {
      "text/html": [
       "<html>\\[\\newcommand{\\Bold}[1]{\\mathbf{#1}}\\frac{3 \\, {\\left(8 \\, C_{2}^{2} \\sigma_{2}^{2} e^{\\left(-\\frac{2}{3}\\right)} + 9 \\, \\left(C_{2} \\sigma_{2}\\right)^{\\frac{4}{3}} {\\left(-\\mu_{1} + \\mu_{n}\\right)}^{\\frac{2}{3}}\\right)}}{4 \\, n^{\\frac{2}{3}} t}\\]</html>"
      ],
      "text/latex": [
       "$$\\newcommand{\\Bold}[1]{\\mathbf{#1}}\\frac{3 \\, {\\left(8 \\, C_{2}^{2} \\sigma_{2}^{2} e^{\\left(-\\frac{2}{3}\\right)} + 9 \\, \\left(C_{2} \\sigma_{2}\\right)^{\\frac{4}{3}} {\\left(-\\mu_{1} + \\mu_{n}\\right)}^{\\frac{2}{3}}\\right)}}{4 \\, n^{\\frac{2}{3}} t}$$"
      ],
      "text/plain": [
       "3/4*(8*C_2^2*sigma_2^2*e^(-2/3) + 9*(C_2*sigma_2)^(4/3)*(-mu_1 + mu_n)^(2/3))/(n^(2/3)*t)"
      ]
     },
     "metadata": {},
     "output_type": "display_data"
    }
   ],
   "source": [
    "upp_bound2(t) = (n^(-2/3) * upp_bound1)/t\n",
    "show(upp_bound2(t))"
   ]
  },
  {
   "cell_type": "markdown",
   "id": "ebbfdbd3-58ff-449b-8ab9-8203632e4839",
   "metadata": {
    "tags": []
   },
   "source": [
    "### Solve $t$, such that $f(t) = \\gamma$"
   ]
  },
  {
   "cell_type": "code",
   "execution_count": 38,
   "id": "17ae4ad1-9d1b-4b0f-b892-c6d1b38ff353",
   "metadata": {},
   "outputs": [
    {
     "data": {
      "text/html": [
       "<html>\\[\\newcommand{\\Bold}[1]{\\mathbf{#1}}\\left[t = \\frac{3 \\, {\\left(8 \\, C_{2}^{2} \\sigma_{2}^{2} + 9 \\, \\left(C_{2} \\sigma_{2}\\right)^{\\frac{4}{3}} {\\left(-\\mu_{1} + \\mu_{n}\\right)}^{\\frac{2}{3}} e^{\\frac{2}{3}}\\right)} e^{\\left(-\\frac{2}{3}\\right)}}{4 \\, \\gamma n^{\\frac{2}{3}}}\\right]\\]</html>"
      ],
      "text/latex": [
       "$$\\newcommand{\\Bold}[1]{\\mathbf{#1}}\\left[t = \\frac{3 \\, {\\left(8 \\, C_{2}^{2} \\sigma_{2}^{2} + 9 \\, \\left(C_{2} \\sigma_{2}\\right)^{\\frac{4}{3}} {\\left(-\\mu_{1} + \\mu_{n}\\right)}^{\\frac{2}{3}} e^{\\frac{2}{3}}\\right)} e^{\\left(-\\frac{2}{3}\\right)}}{4 \\, \\gamma n^{\\frac{2}{3}}}\\right]$$"
      ],
      "text/plain": [
       "[t == 3/4*(8*C_2^2*sigma_2^2 + 9*(C_2*sigma_2)^(4/3)*(-mu_1 + mu_n)^(2/3)*e^(2/3))*e^(-2/3)/(gamma*n^(2/3))]"
      ]
     },
     "metadata": {},
     "output_type": "display_data"
    }
   ],
   "source": [
    "upp_bound2_gamma = solve([upp_bound2(t) - gamma == 0], t)\n",
    "show(upp_bound2_gamma)"
   ]
  },
  {
   "cell_type": "code",
   "execution_count": 39,
   "id": "991fb02d-08bd-4fb4-bec5-2f1bb8003a24",
   "metadata": {},
   "outputs": [
    {
     "data": {
      "text/plain": [
       "\\left[t = \\frac{3 \\, {\\left(8 \\, C_{2}^{2} \\sigma_{2}^{2} + 9 \\, \\left(C_{2} \\sigma_{2}\\right)^{\\frac{4}{3}} {\\left(-\\mu_{1} + \\mu_{n}\\right)}^{\\frac{2}{3}} e^{\\frac{2}{3}}\\right)} e^{\\left(-\\frac{2}{3}\\right)}}{4 \\, \\gamma n^{\\frac{2}{3}}}\\right]"
      ]
     },
     "execution_count": 39,
     "metadata": {},
     "output_type": "execute_result"
    }
   ],
   "source": [
    "latex(upp_bound2_gamma)"
   ]
  },
  {
   "cell_type": "markdown",
   "id": "469cc8df-09e3-4ab2-bfed-f3fc919ae6ac",
   "metadata": {},
   "source": [
    "### Gaussian Distribution"
   ]
  },
  {
   "cell_type": "markdown",
   "id": "204e0539-75d8-4f1c-a9d8-9e55d16b497c",
   "metadata": {},
   "source": [
    "PDF of $\\mathcal{N}(0, 1)$, i.e., $\\phi(x)$"
   ]
  },
  {
   "cell_type": "code",
   "execution_count": 40,
   "id": "088991f0-dfc5-4ca8-818a-848a1d6fb5e2",
   "metadata": {},
   "outputs": [
    {
     "data": {
      "text/html": [
       "<html>\\[\\newcommand{\\Bold}[1]{\\mathbf{#1}}\\frac{\\sqrt{2} e^{\\left(-\\frac{{\\left(\\mu - x\\right)}^{2}}{2 \\, \\sigma^{2}}\\right)}}{2 \\, \\sqrt{\\pi} \\sigma}\\]</html>"
      ],
      "text/latex": [
       "$$\\newcommand{\\Bold}[1]{\\mathbf{#1}}\\frac{\\sqrt{2} e^{\\left(-\\frac{{\\left(\\mu - x\\right)}^{2}}{2 \\, \\sigma^{2}}\\right)}}{2 \\, \\sqrt{\\pi} \\sigma}$$"
      ],
      "text/plain": [
       "1/2*sqrt(2)*e^(-1/2*(mu - x)^2/sigma^2)/(sqrt(pi)*sigma)"
      ]
     },
     "metadata": {},
     "output_type": "display_data"
    }
   ],
   "source": [
    "var('mu, sigma, x')\n",
    "assume(sigma>0)\n",
    "assume(mu, 'real')\n",
    "assume(x, 'real')\n",
    "phi(x) = 1/(sigma*sqrt(2*pi)) * exp(-(x-mu)^2/(2*sigma^2))\n",
    "show(phi(x))"
   ]
  },
  {
   "cell_type": "markdown",
   "id": "4506cca3-2d7f-4ec8-b20f-c3a2f59b18af",
   "metadata": {},
   "source": [
    "CDF of $\\mathcal{N}(0, 1)$, i.e., $\\Phi(x)$"
   ]
  },
  {
   "cell_type": "code",
   "execution_count": 41,
   "id": "54a16212-0478-4188-bb95-dd6d1641b96d",
   "metadata": {},
   "outputs": [
    {
     "data": {
      "text/html": [
       "<html>\\[\\newcommand{\\Bold}[1]{\\mathbf{#1}}\\frac{\\sqrt{2} {\\left(\\sqrt{2} \\sqrt{\\pi} \\sigma \\operatorname{erf}\\left(-\\frac{\\sqrt{2} \\mu - \\sqrt{2} x}{2 \\, \\sigma}\\right) + \\sqrt{2} \\sqrt{\\pi} \\sigma\\right)}}{4 \\, \\sqrt{\\pi} \\sigma}\\]</html>"
      ],
      "text/latex": [
       "$$\\newcommand{\\Bold}[1]{\\mathbf{#1}}\\frac{\\sqrt{2} {\\left(\\sqrt{2} \\sqrt{\\pi} \\sigma \\operatorname{erf}\\left(-\\frac{\\sqrt{2} \\mu - \\sqrt{2} x}{2 \\, \\sigma}\\right) + \\sqrt{2} \\sqrt{\\pi} \\sigma\\right)}}{4 \\, \\sqrt{\\pi} \\sigma}$$"
      ],
      "text/plain": [
       "1/4*sqrt(2)*(sqrt(2)*sqrt(pi)*sigma*erf(-1/2*(sqrt(2)*mu - sqrt(2)*x)/sigma) + sqrt(2)*sqrt(pi)*sigma)/(sqrt(pi)*sigma)"
      ]
     },
     "metadata": {},
     "output_type": "display_data"
    }
   ],
   "source": [
    "Phi(x) = integrate(phi(t),t,-Infinity,x)\n",
    "show(Phi(x))"
   ]
  },
  {
   "cell_type": "code",
   "execution_count": 44,
   "id": "3cdf22d2-7baa-48ac-bbba-04e48af493c8",
   "metadata": {},
   "outputs": [
    {
     "data": {
      "text/html": [
       "<html>\\[\\newcommand{\\Bold}[1]{\\mathbf{#1}}\\frac{\\sqrt{2} x e^{\\left(-\\frac{{\\left(\\mu - x\\right)}^{2}}{2 \\, \\sigma^{2}}\\right)}}{\\sqrt{\\pi} \\sigma {\\left(\\frac{\\sqrt{2} {\\left(\\sqrt{2} \\sqrt{\\pi} \\sigma \\operatorname{erf}\\left(-\\frac{\\sqrt{2} \\mu - \\sqrt{2} x}{2 \\, \\sigma}\\right) + \\sqrt{2} \\sqrt{\\pi} \\sigma\\right)}}{\\sqrt{\\pi} \\sigma} - 2\\right)}}\\]</html>"
      ],
      "text/latex": [
       "$$\\newcommand{\\Bold}[1]{\\mathbf{#1}}\\frac{\\sqrt{2} x e^{\\left(-\\frac{{\\left(\\mu - x\\right)}^{2}}{2 \\, \\sigma^{2}}\\right)}}{\\sqrt{\\pi} \\sigma {\\left(\\frac{\\sqrt{2} {\\left(\\sqrt{2} \\sqrt{\\pi} \\sigma \\operatorname{erf}\\left(-\\frac{\\sqrt{2} \\mu - \\sqrt{2} x}{2 \\, \\sigma}\\right) + \\sqrt{2} \\sqrt{\\pi} \\sigma\\right)}}{\\sqrt{\\pi} \\sigma} - 2\\right)}}$$"
      ],
      "text/plain": [
       "sqrt(2)*x*e^(-1/2*(mu - x)^2/sigma^2)/(sqrt(pi)*sigma*(sqrt(2)*(sqrt(2)*sqrt(pi)*sigma*erf(-1/2*(sqrt(2)*mu - sqrt(2)*x)/sigma) + sqrt(2)*sqrt(pi)*sigma)/(sqrt(pi)*sigma) - 2))"
      ]
     },
     "metadata": {},
     "output_type": "display_data"
    }
   ],
   "source": [
    "h(x) = (x * phi(x)) / (2 * Phi(x) - 1)\n",
    "show(h(x))"
   ]
  },
  {
   "cell_type": "code",
   "execution_count": 45,
   "id": "d2a3824b-99bc-4e20-93dc-24b69f89714a",
   "metadata": {},
   "outputs": [
    {
     "data": {
      "image/png": "[encoded data removed]",
      "text/plain": [
       "Graphics object consisting of 1 graphics primitive"
      ]
     },
     "execution_count": 45,
     "metadata": {},
     "output_type": "execute_result"
    }
   ],
   "source": [
    "plot(h.substitute(mu = 0, sigma = 1))"
   ]
  },
  {
   "cell_type": "code",
   "execution_count": 46,
   "id": "f50e30e6-1148-4f55-bffa-ada4fcfb1bab",
   "metadata": {},
   "outputs": [
    {
     "data": {
      "image/png": "[encoded data removed]",
      "text/plain": [
       "Graphics object consisting of 1 graphics primitive"
      ]
     },
     "execution_count": 46,
     "metadata": {},
     "output_type": "execute_result"
    }
   ],
   "source": [
    "j(x) = 1/2 - h(x)\n",
    "plot(j.substitute(mu = 0, sigma = 1))"
   ]
  },
  {
   "cell_type": "markdown",
   "id": "3ad1a4a3-6047-4751-b171-5ca6c67307fe",
   "metadata": {},
   "source": [
    "# Analysis of $J(\\sigma)$"
   ]
  },
  {
   "cell_type": "markdown",
   "id": "d5d40a7b-cd15-4971-8e5f-e31407d6fa28",
   "metadata": {},
   "source": [
    "### Gaussian Distribution"
   ]
  },
  {
   "cell_type": "markdown",
   "id": "43320881-6cf0-4c36-bb49-740f5302d584",
   "metadata": {},
   "source": [
    "PDF of $\\mathcal{N}(0, 1)$, i.e., $\\phi(x)$"
   ]
  },
  {
   "cell_type": "code",
   "execution_count": 100,
   "id": "fc623d80-9107-4530-bcd8-bbe2430a3d0c",
   "metadata": {},
   "outputs": [
    {
     "data": {
      "text/html": [
       "<html>\\[\\newcommand{\\Bold}[1]{\\mathbf{#1}}\\frac{\\sqrt{2} e^{\\left(-\\frac{{\\left(\\mu - x\\right)}^{2}}{2 \\, \\sigma^{2}}\\right)}}{2 \\, \\sqrt{\\pi} \\sigma}\\]</html>"
      ],
      "text/latex": [
       "$$\\newcommand{\\Bold}[1]{\\mathbf{#1}}\\frac{\\sqrt{2} e^{\\left(-\\frac{{\\left(\\mu - x\\right)}^{2}}{2 \\, \\sigma^{2}}\\right)}}{2 \\, \\sqrt{\\pi} \\sigma}$$"
      ],
      "text/plain": [
       "1/2*sqrt(2)*e^(-1/2*(mu - x)^2/sigma^2)/(sqrt(pi)*sigma)"
      ]
     },
     "metadata": {},
     "output_type": "display_data"
    }
   ],
   "source": [
    "var('mu, sigma, x, eta')\n",
    "assume(sigma > 0)\n",
    "assume(eta > 0)\n",
    "assume(mu, 'real')\n",
    "assume(x, 'real')\n",
    "phi(x) = 1/(sigma*sqrt(2*pi)) * exp(-(x-mu)^2/(2*sigma^2))\n",
    "show(phi(x))"
   ]
  },
  {
   "cell_type": "markdown",
   "id": "fd370181-d606-4d5d-9f4f-940cc5a20c59",
   "metadata": {},
   "source": [
    "CDF of $\\mathcal{N}(0, 1)$, i.e., $\\Phi(x)$"
   ]
  },
  {
   "cell_type": "code",
   "execution_count": 52,
   "id": "01fa46e7-1a01-4f7a-81d5-accdd1db509e",
   "metadata": {},
   "outputs": [
    {
     "data": {
      "text/html": [
       "<html>\\[\\newcommand{\\Bold}[1]{\\mathbf{#1}}\\frac{\\sqrt{2} {\\left(\\sqrt{2} \\sqrt{\\pi} \\sigma \\operatorname{erf}\\left(-\\frac{\\sqrt{2} \\mu - \\sqrt{2} x}{2 \\, \\sigma}\\right) + \\sqrt{2} \\sqrt{\\pi} \\sigma\\right)}}{4 \\, \\sqrt{\\pi} \\sigma}\\]</html>"
      ],
      "text/latex": [
       "$$\\newcommand{\\Bold}[1]{\\mathbf{#1}}\\frac{\\sqrt{2} {\\left(\\sqrt{2} \\sqrt{\\pi} \\sigma \\operatorname{erf}\\left(-\\frac{\\sqrt{2} \\mu - \\sqrt{2} x}{2 \\, \\sigma}\\right) + \\sqrt{2} \\sqrt{\\pi} \\sigma\\right)}}{4 \\, \\sqrt{\\pi} \\sigma}$$"
      ],
      "text/plain": [
       "1/4*sqrt(2)*(sqrt(2)*sqrt(pi)*sigma*erf(-1/2*(sqrt(2)*mu - sqrt(2)*x)/sigma) + sqrt(2)*sqrt(pi)*sigma)/(sqrt(pi)*sigma)"
      ]
     },
     "metadata": {},
     "output_type": "display_data"
    }
   ],
   "source": [
    "Phi(x) = integrate(phi(t),t,-Infinity,x)\n",
    "show(Phi(x))"
   ]
  },
  {
   "cell_type": "code",
   "execution_count": 53,
   "id": "b33c10c6-f57b-41b6-871c-2add020a716e",
   "metadata": {},
   "outputs": [
    {
     "data": {
      "text/html": [
       "<html>\\[\\newcommand{\\Bold}[1]{\\mathbf{#1}}\\frac{\\sqrt{2} x e^{\\left(-\\frac{{\\left(\\mu - x\\right)}^{2}}{2 \\, \\sigma^{2}}\\right)}}{\\sqrt{\\pi} \\sigma {\\left(\\frac{\\sqrt{2} {\\left(\\sqrt{2} \\sqrt{\\pi} \\sigma \\operatorname{erf}\\left(-\\frac{\\sqrt{2} \\mu - \\sqrt{2} x}{2 \\, \\sigma}\\right) + \\sqrt{2} \\sqrt{\\pi} \\sigma\\right)}}{\\sqrt{\\pi} \\sigma} - 2\\right)}}\\]</html>"
      ],
      "text/latex": [
       "$$\\newcommand{\\Bold}[1]{\\mathbf{#1}}\\frac{\\sqrt{2} x e^{\\left(-\\frac{{\\left(\\mu - x\\right)}^{2}}{2 \\, \\sigma^{2}}\\right)}}{\\sqrt{\\pi} \\sigma {\\left(\\frac{\\sqrt{2} {\\left(\\sqrt{2} \\sqrt{\\pi} \\sigma \\operatorname{erf}\\left(-\\frac{\\sqrt{2} \\mu - \\sqrt{2} x}{2 \\, \\sigma}\\right) + \\sqrt{2} \\sqrt{\\pi} \\sigma\\right)}}{\\sqrt{\\pi} \\sigma} - 2\\right)}}$$"
      ],
      "text/plain": [
       "sqrt(2)*x*e^(-1/2*(mu - x)^2/sigma^2)/(sqrt(pi)*sigma*(sqrt(2)*(sqrt(2)*sqrt(pi)*sigma*erf(-1/2*(sqrt(2)*mu - sqrt(2)*x)/sigma) + sqrt(2)*sqrt(pi)*sigma)/(sqrt(pi)*sigma) - 2))"
      ]
     },
     "metadata": {},
     "output_type": "display_data"
    }
   ],
   "source": [
    "h(x) = (x * phi(x)) / (2 * Phi(x) - 1)\n",
    "show(h(x))"
   ]
  },
  {
   "cell_type": "code",
   "execution_count": 141,
   "id": "afa527d4-86a7-4efd-84d8-3eee24a6d8a9",
   "metadata": {},
   "outputs": [
    {
     "data": {
      "text/html": [
       "<html>\\[\\newcommand{\\Bold}[1]{\\mathbf{#1}}y \\ {\\mapsto}\\ -\\frac{\\frac{2 \\, \\sqrt{2} y e^{\\left(-\\frac{1}{2} \\, y^{2}\\right)}}{\\sqrt{\\pi} {\\left(\\frac{\\sqrt{2} {\\left(\\sqrt{2} \\sqrt{\\pi} \\operatorname{erf}\\left(\\frac{1}{2} \\, \\sqrt{2} y\\right) + \\sqrt{2} \\sqrt{\\pi}\\right)}}{\\sqrt{\\pi}} - 2\\right)}} - 1}{2 \\, y}\\]</html>"
      ],
      "text/latex": [
       "$$\\newcommand{\\Bold}[1]{\\mathbf{#1}}y \\ {\\mapsto}\\ -\\frac{\\frac{2 \\, \\sqrt{2} y e^{\\left(-\\frac{1}{2} \\, y^{2}\\right)}}{\\sqrt{\\pi} {\\left(\\frac{\\sqrt{2} {\\left(\\sqrt{2} \\sqrt{\\pi} \\operatorname{erf}\\left(\\frac{1}{2} \\, \\sqrt{2} y\\right) + \\sqrt{2} \\sqrt{\\pi}\\right)}}{\\sqrt{\\pi}} - 2\\right)}} - 1}{2 \\, y}$$"
      ],
      "text/plain": [
       "y |--> -1/2*(2*sqrt(2)*y*e^(-1/2*y^2)/(sqrt(pi)*(sqrt(2)*(sqrt(2)*sqrt(pi)*erf(1/2*sqrt(2)*y) + sqrt(2)*sqrt(pi))/sqrt(pi) - 2)) - 1)/y"
      ]
     },
     "metadata": {},
     "output_type": "display_data"
    }
   ],
   "source": [
    "var('y')\n",
    "assume(y > 0)\n",
    "K(y) = (1/y)*(1/2 - h.substitute(x = y, sigma = 1, mu = 0))\n",
    "show(K)"
   ]
  },
  {
   "cell_type": "code",
   "execution_count": 142,
   "id": "3bdde9f9-1def-4fd6-a2fa-f9ef2f19adc8",
   "metadata": {},
   "outputs": [
    {
     "data": {
      "image/png": "[encoded data removed]",
      "text/plain": [
       "Graphics object consisting of 1 graphics primitive"
      ]
     },
     "execution_count": 142,
     "metadata": {},
     "output_type": "execute_result"
    }
   ],
   "source": [
    "plot(K, (y, 0, 1))"
   ]
  },
  {
   "cell_type": "code",
   "execution_count": 144,
   "id": "61382ac7-0542-425e-91e4-99d0cf74db10",
   "metadata": {},
   "outputs": [
    {
     "data": {
      "text/html": [
       "<html>\\[\\newcommand{\\Bold}[1]{\\mathbf{#1}}\\sigma \\ {\\mapsto}\\ -\\frac{1}{2} \\, \\sigma {\\left(\\frac{2 \\, \\sqrt{2} \\eta e^{\\left(-\\frac{{\\left(\\mu - \\frac{\\eta}{\\sigma}\\right)}^{2}}{2 \\, \\sigma^{2}}\\right)}}{\\sqrt{\\pi} \\sigma^{2} {\\left(\\frac{\\sqrt{2} {\\left(\\sqrt{2} \\sqrt{\\pi} \\sigma \\operatorname{erf}\\left(-\\frac{\\sqrt{2} \\mu - \\frac{\\sqrt{2} \\eta}{\\sigma}}{2 \\, \\sigma}\\right) + \\sqrt{2} \\sqrt{\\pi} \\sigma\\right)}}{\\sqrt{\\pi} \\sigma} - 2\\right)}} - 1\\right)}\\]</html>"
      ],
      "text/latex": [
       "$$\\newcommand{\\Bold}[1]{\\mathbf{#1}}\\sigma \\ {\\mapsto}\\ -\\frac{1}{2} \\, \\sigma {\\left(\\frac{2 \\, \\sqrt{2} \\eta e^{\\left(-\\frac{{\\left(\\mu - \\frac{\\eta}{\\sigma}\\right)}^{2}}{2 \\, \\sigma^{2}}\\right)}}{\\sqrt{\\pi} \\sigma^{2} {\\left(\\frac{\\sqrt{2} {\\left(\\sqrt{2} \\sqrt{\\pi} \\sigma \\operatorname{erf}\\left(-\\frac{\\sqrt{2} \\mu - \\frac{\\sqrt{2} \\eta}{\\sigma}}{2 \\, \\sigma}\\right) + \\sqrt{2} \\sqrt{\\pi} \\sigma\\right)}}{\\sqrt{\\pi} \\sigma} - 2\\right)}} - 1\\right)}$$"
      ],
      "text/plain": [
       "sigma |--> -1/2*sigma*(2*sqrt(2)*eta*e^(-1/2*(mu - eta/sigma)^2/sigma^2)/(sqrt(pi)*sigma^2*(sqrt(2)*(sqrt(2)*sqrt(pi)*sigma*erf(-1/2*(sqrt(2)*mu - sqrt(2)*eta/sigma)/sigma) + sqrt(2)*sqrt(pi)*sigma)/(sqrt(pi)*sigma) - 2)) - 1)"
      ]
     },
     "metadata": {},
     "output_type": "display_data"
    }
   ],
   "source": [
    "J(sigma) = sigma*(1/2 - h.substitute(x = eta/sigma))\n",
    "show(J)"
   ]
  },
  {
   "cell_type": "code",
   "execution_count": 145,
   "id": "0137c14b-f666-46a8-b633-4311b846b80c",
   "metadata": {},
   "outputs": [
    {
     "data": {
      "text/plain": [
       "sigma |--> 0.05"
      ]
     },
     "execution_count": 145,
     "metadata": {},
     "output_type": "execute_result"
    }
   ],
   "source": [
    "J.substitute(mu = 0, eta = 1).substitute(sigma = 0.1).simplify()"
   ]
  },
  {
   "cell_type": "code",
   "execution_count": 146,
   "id": "aba4586f-f8f9-493a-8bad-e33803f7e13a",
   "metadata": {},
   "outputs": [
    {
     "data": {
      "image/png": "[encoded data removed]",
      "text/plain": [
       "Graphics object consisting of 1 graphics primitive"
      ]
     },
     "execution_count": 146,
     "metadata": {},
     "output_type": "execute_result"
    }
   ],
   "source": [
    "plot(J.substitute(mu = 0, eta = 0.1), (sigma, 0, 1))"
   ]
  },
  {
   "cell_type": "code",
   "execution_count": 158,
   "id": "9a34d921-550d-4a37-9acd-d44505ac0e09",
   "metadata": {},
   "outputs": [
    {
     "data": {
      "text/html": [
       "<html>\\[\\newcommand{\\Bold}[1]{\\mathbf{#1}}\\frac{{\\left({\\left(\\sqrt{2} \\pi \\sigma^{4} \\operatorname{erf}\\left(\\frac{\\sqrt{2}}{2 \\, \\sigma^{2}}\\right) - 2 \\, \\sqrt{2} \\pi \\operatorname{erf}\\left(\\frac{\\sqrt{2}}{2 \\, \\sigma^{2}}\\right)\\right)} e^{\\left(\\frac{1}{2 \\, \\sigma^{4}}\\right)} + \\sqrt{\\pi} {\\left(\\pi \\sigma^{6} \\operatorname{erf}\\left(\\frac{\\sqrt{2}}{2 \\, \\sigma^{2}}\\right)^{2} e^{\\left(\\frac{1}{\\sigma^{4}}\\right)} - 4 \\, \\sigma^{2}\\right)}\\right)} e^{\\left(-\\frac{1}{\\sigma^{4}}\\right)}}{2 \\, \\pi^{\\frac{3}{2}} \\sigma^{6} \\operatorname{erf}\\left(\\frac{\\sqrt{2}}{2 \\, \\sigma^{2}}\\right)^{2}}\\]</html>"
      ],
      "text/latex": [
       "$$\\newcommand{\\Bold}[1]{\\mathbf{#1}}\\frac{{\\left({\\left(\\sqrt{2} \\pi \\sigma^{4} \\operatorname{erf}\\left(\\frac{\\sqrt{2}}{2 \\, \\sigma^{2}}\\right) - 2 \\, \\sqrt{2} \\pi \\operatorname{erf}\\left(\\frac{\\sqrt{2}}{2 \\, \\sigma^{2}}\\right)\\right)} e^{\\left(\\frac{1}{2 \\, \\sigma^{4}}\\right)} + \\sqrt{\\pi} {\\left(\\pi \\sigma^{6} \\operatorname{erf}\\left(\\frac{\\sqrt{2}}{2 \\, \\sigma^{2}}\\right)^{2} e^{\\left(\\frac{1}{\\sigma^{4}}\\right)} - 4 \\, \\sigma^{2}\\right)}\\right)} e^{\\left(-\\frac{1}{\\sigma^{4}}\\right)}}{2 \\, \\pi^{\\frac{3}{2}} \\sigma^{6} \\operatorname{erf}\\left(\\frac{\\sqrt{2}}{2 \\, \\sigma^{2}}\\right)^{2}}$$"
      ],
      "text/plain": [
       "1/2*((sqrt(2)*pi*sigma^4*erf(1/2*sqrt(2)/sigma^2) - 2*sqrt(2)*pi*erf(1/2*sqrt(2)/sigma^2))*e^(1/2/sigma^4) + sqrt(pi)*(pi*sigma^6*erf(1/2*sqrt(2)/sigma^2)^2*e^(sigma^(-4)) - 4*sigma^2))*e^(-1/sigma^4)/(pi^(3/2)*sigma^6*erf(1/2*sqrt(2)/sigma^2)^2)"
      ]
     },
     "metadata": {},
     "output_type": "display_data"
    }
   ],
   "source": [
    "J_sigma_d1 = diff(J.substitute(mu = 0, eta = 1), sigma, 1)\n",
    "J_sigma_d1_simplify = J_sigma_d1.full_simplify()\n",
    "# show(J_sigma_d1)\n",
    "show(J_sigma_d1_simplify)"
   ]
  },
  {
   "cell_type": "code",
   "execution_count": 161,
   "id": "50c2a3d5-d628-42ad-8362-61f551919140",
   "metadata": {},
   "outputs": [],
   "source": [
    "J_d1_sol = solve(J_sigma_d1_simplify == 0, sigma)\n",
    "# show(J_d1_sol)\n",
    "# latex(J_d1_sol)"
   ]
  },
  {
   "cell_type": "code",
   "execution_count": 163,
   "id": "d2a788ac-e37d-4740-9e94-6bde55b1a2f0",
   "metadata": {},
   "outputs": [
    {
     "data": {
      "text/html": [
       "<html>\\[\\newcommand{\\Bold}[1]{\\mathbf{#1}}\\frac{{\\left(2 \\, {\\left(5 \\, \\pi \\sigma^{6} \\operatorname{erf}\\left(\\frac{\\sqrt{2}}{2 \\, \\sigma^{2}}\\right) - 6 \\, \\pi \\sigma^{2} \\operatorname{erf}\\left(\\frac{\\sqrt{2}}{2 \\, \\sigma^{2}}\\right)\\right)} e^{\\left(\\frac{1}{2 \\, \\sigma^{4}}\\right)} - \\sqrt{\\pi} {\\left(8 \\, \\sqrt{2} \\sigma^{4} + {\\left(\\sqrt{2} \\pi \\sigma^{8} \\operatorname{erf}\\left(\\frac{\\sqrt{2}}{2 \\, \\sigma^{2}}\\right)^{2} - 7 \\, \\sqrt{2} \\pi \\sigma^{4} \\operatorname{erf}\\left(\\frac{\\sqrt{2}}{2 \\, \\sigma^{2}}\\right)^{2} + 2 \\, \\sqrt{2} \\pi \\operatorname{erf}\\left(\\frac{\\sqrt{2}}{2 \\, \\sigma^{2}}\\right)^{2}\\right)} e^{\\left(\\frac{1}{\\sigma^{4}}\\right)}\\right)}\\right)} e^{\\left(-\\frac{3}{2 \\, \\sigma^{4}}\\right)}}{\\pi^{2} \\sigma^{11} \\operatorname{erf}\\left(\\frac{\\sqrt{2}}{2 \\, \\sigma^{2}}\\right)^{3}}\\]</html>"
      ],
      "text/latex": [
       "$$\\newcommand{\\Bold}[1]{\\mathbf{#1}}\\frac{{\\left(2 \\, {\\left(5 \\, \\pi \\sigma^{6} \\operatorname{erf}\\left(\\frac{\\sqrt{2}}{2 \\, \\sigma^{2}}\\right) - 6 \\, \\pi \\sigma^{2} \\operatorname{erf}\\left(\\frac{\\sqrt{2}}{2 \\, \\sigma^{2}}\\right)\\right)} e^{\\left(\\frac{1}{2 \\, \\sigma^{4}}\\right)} - \\sqrt{\\pi} {\\left(8 \\, \\sqrt{2} \\sigma^{4} + {\\left(\\sqrt{2} \\pi \\sigma^{8} \\operatorname{erf}\\left(\\frac{\\sqrt{2}}{2 \\, \\sigma^{2}}\\right)^{2} - 7 \\, \\sqrt{2} \\pi \\sigma^{4} \\operatorname{erf}\\left(\\frac{\\sqrt{2}}{2 \\, \\sigma^{2}}\\right)^{2} + 2 \\, \\sqrt{2} \\pi \\operatorname{erf}\\left(\\frac{\\sqrt{2}}{2 \\, \\sigma^{2}}\\right)^{2}\\right)} e^{\\left(\\frac{1}{\\sigma^{4}}\\right)}\\right)}\\right)} e^{\\left(-\\frac{3}{2 \\, \\sigma^{4}}\\right)}}{\\pi^{2} \\sigma^{11} \\operatorname{erf}\\left(\\frac{\\sqrt{2}}{2 \\, \\sigma^{2}}\\right)^{3}}$$"
      ],
      "text/plain": [
       "(2*(5*pi*sigma^6*erf(1/2*sqrt(2)/sigma^2) - 6*pi*sigma^2*erf(1/2*sqrt(2)/sigma^2))*e^(1/2/sigma^4) - sqrt(pi)*(8*sqrt(2)*sigma^4 + (sqrt(2)*pi*sigma^8*erf(1/2*sqrt(2)/sigma^2)^2 - 7*sqrt(2)*pi*sigma^4*erf(1/2*sqrt(2)/sigma^2)^2 + 2*sqrt(2)*pi*erf(1/2*sqrt(2)/sigma^2)^2)*e^(sigma^(-4))))*e^(-3/2/sigma^4)/(pi^2*sigma^11*erf(1/2*sqrt(2)/sigma^2)^3)"
      ]
     },
     "metadata": {},
     "output_type": "display_data"
    }
   ],
   "source": [
    "J_sigma_d2 = diff(J.substitute(mu = 0, eta = 1), sigma, 2)\n",
    "J_sigma_d2_simplify = J_sigma_d2.full_simplify()\n",
    "show(J_sigma_d2_simplify)"
   ]
  },
  {
   "cell_type": "code",
   "execution_count": 148,
   "id": "b28e3bf6-d96c-4cfb-b260-34aec1390987",
   "metadata": {},
   "outputs": [
    {
     "data": {
      "text/html": [
       "<html>\\[\\newcommand{\\Bold}[1]{\\mathbf{#1}}\\frac{{\\left({\\left(\\sqrt{2} \\pi \\eta \\sigma^{4} \\operatorname{erf}\\left(\\frac{\\sqrt{2} \\eta}{2 \\, \\sigma^{2}}\\right) - 2 \\, \\sqrt{2} \\pi \\eta^{3} \\operatorname{erf}\\left(\\frac{\\sqrt{2} \\eta}{2 \\, \\sigma^{2}}\\right)\\right)} e^{\\left(\\frac{\\eta^{2}}{2 \\, \\sigma^{4}}\\right)} + \\sqrt{\\pi} {\\left(\\pi \\sigma^{6} \\operatorname{erf}\\left(\\frac{\\sqrt{2} \\eta}{2 \\, \\sigma^{2}}\\right)^{2} e^{\\left(\\frac{\\eta^{2}}{\\sigma^{4}}\\right)} - 4 \\, \\eta^{2} \\sigma^{2}\\right)}\\right)} e^{\\left(-\\frac{\\eta^{2}}{\\sigma^{4}}\\right)}}{2 \\, \\pi^{\\frac{3}{2}} \\sigma^{6} \\operatorname{erf}\\left(\\frac{\\sqrt{2} \\eta}{2 \\, \\sigma^{2}}\\right)^{2}}\\]</html>"
      ],
      "text/latex": [
       "$$\\newcommand{\\Bold}[1]{\\mathbf{#1}}\\frac{{\\left({\\left(\\sqrt{2} \\pi \\eta \\sigma^{4} \\operatorname{erf}\\left(\\frac{\\sqrt{2} \\eta}{2 \\, \\sigma^{2}}\\right) - 2 \\, \\sqrt{2} \\pi \\eta^{3} \\operatorname{erf}\\left(\\frac{\\sqrt{2} \\eta}{2 \\, \\sigma^{2}}\\right)\\right)} e^{\\left(\\frac{\\eta^{2}}{2 \\, \\sigma^{4}}\\right)} + \\sqrt{\\pi} {\\left(\\pi \\sigma^{6} \\operatorname{erf}\\left(\\frac{\\sqrt{2} \\eta}{2 \\, \\sigma^{2}}\\right)^{2} e^{\\left(\\frac{\\eta^{2}}{\\sigma^{4}}\\right)} - 4 \\, \\eta^{2} \\sigma^{2}\\right)}\\right)} e^{\\left(-\\frac{\\eta^{2}}{\\sigma^{4}}\\right)}}{2 \\, \\pi^{\\frac{3}{2}} \\sigma^{6} \\operatorname{erf}\\left(\\frac{\\sqrt{2} \\eta}{2 \\, \\sigma^{2}}\\right)^{2}}$$"
      ],
      "text/plain": [
       "1/2*((sqrt(2)*pi*eta*sigma^4*erf(1/2*sqrt(2)*eta/sigma^2) - 2*sqrt(2)*pi*eta^3*erf(1/2*sqrt(2)*eta/sigma^2))*e^(1/2*eta^2/sigma^4) + sqrt(pi)*(pi*sigma^6*erf(1/2*sqrt(2)*eta/sigma^2)^2*e^(eta^2/sigma^4) - 4*eta^2*sigma^2))*e^(-eta^2/sigma^4)/(pi^(3/2)*sigma^6*erf(1/2*sqrt(2)*eta/sigma^2)^2)"
      ]
     },
     "metadata": {},
     "output_type": "display_data"
    }
   ],
   "source": [
    "J_sigma_d1_simplify = J_sigma_d1.full_simplify()\n",
    "show(J_sigma_d1_simplify)"
   ]
  },
  {
   "cell_type": "code",
   "execution_count": 149,
   "id": "dea6e5a6-fe04-4940-9226-d0c7686dc668",
   "metadata": {},
   "outputs": [
    {
     "name": "stdout",
     "output_type": "stream",
     "text": [
      "verbose 0 (3839: plot.py, generate_plot_points) WARNING: When plotting, failed to evaluate function at 39 points.\n",
      "verbose 0 (3839: plot.py, generate_plot_points) Last error message: 'math range error'\n"
     ]
    },
    {
     "data": {
      "image/png": "[encoded data removed]",
      "text/plain": [
       "Graphics object consisting of 1 graphics primitive"
      ]
     },
     "execution_count": 149,
     "metadata": {},
     "output_type": "execute_result"
    }
   ],
   "source": [
    "plot(J_sigma_d1_simplify.substitute(eta = 1), (sigma, 0, 1))"
   ]
  },
  {
   "cell_type": "code",
   "execution_count": 150,
   "id": "be059447-81a5-4e5b-8508-0ce0901cd8eb",
   "metadata": {},
   "outputs": [],
   "source": [
    "import numpy as np"
   ]
  },
  {
   "cell_type": "code",
   "execution_count": 151,
   "id": "b8b7152b-68ca-42c2-bea5-bed6b4208201",
   "metadata": {},
   "outputs": [
    {
     "data": {
      "text/plain": [
       "{0.0100000000000000: 0.49999999999999996097690577526989096164164491193577493115594,\n",
       " 0.0200000000000000: 0.50000000000000003713535711194361318645277200704622536127867,\n",
       " 0.0300000000000000: 0.49999999999999993096337269826968734951481866444955376519972,\n",
       " 0.0400000000000000: 0.50000000000000004506876280654591118283314729106015918849937,\n",
       " 0.0500000000000000: 0.50000000000000002588219365086387511562063403060484833169448,\n",
       " 0.0600000000000000: 0.49999999999999985794775817227798565598907488776737586585009,\n",
       " 0.0700000000000000: 0.49999999999999998285075222332444912753508662988814275755590,\n",
       " 0.0800000000000000: 0.50000000000000000801848361364536245945578141666003007103040,\n",
       " 0.0900000000000000: 0.49999999999999997701399529767327613461661573664095366257865,\n",
       " 0.100000000000000: 0.49999999999999998445585787807658139653487799597188810711107,\n",
       " 0.110000000000000: 0.49999999999999996789815424816784888744590676987859459092875,\n",
       " 0.120000000000000: 0.49999999999999998213674702751445827004269132209189884516812,\n",
       " 0.130000000000000: 0.50000000000000009780918645026066511590619345872737672425211,\n",
       " 0.140000000000000: 0.49999999999999995088463161648666429097998122960354430478599,\n",
       " 0.150000000000000: 0.50000000000000001732826461872074058663551881718327162787253,\n",
       " 0.160000000000000: 0.50000000000000005716506589636549000485851911628066249367302,\n",
       " 0.170000000000000: 0.50000000000000010577123608281238465335261234938807192105099,\n",
       " 0.180000000000000: 0.49999999999999997295348165192147441507270517046458328192380,\n",
       " 0.190000000000000: 0.50000000000000006189034722868020816901374260282098938728852,\n",
       " 0.200000000000000: 0.49999999999999997423799768006427312923262169515075129051077,\n",
       " 0.210000000000000: 0.50000000000000004583834380333007748993757610570831350988973,\n",
       " 0.220000000000000: 0.49999999999999992887105368874339612643202305680860770702550,\n",
       " 0.230000000000000: 0.49999999999999987784104715768220335687624146721093467608219,\n",
       " 0.240000000000000: 0.49999999999999996416702453954537614164787344418041997657304,\n",
       " 0.250000000000000: 0.49999999999999995523728285556120217056772772935492487041246,\n",
       " 0.260000000000000: 0.50000000000000018278875916993403950924721241553960076912890,\n",
       " 0.270000000000000: 0.49999999999999992949485468451976011196629643111591249080285,\n",
       " 0.280000000000000: 0.49999999999999995261858567111931362186690593208692389817363,\n",
       " 0.290000000000000: 0.50000000000000006740111895480272853634690455098932869386031,\n",
       " 0.300000000000000: 0.49999999999999999596173237370967611535209540107796195891435,\n",
       " 0.310000000000000: 0.50000000000000000829801623123906981697825753212703204744364,\n",
       " 0.320000000000000: 0.49999999999999999756904762706191412692318355282885083371713,\n",
       " 0.330000000000000: 0.50000000000000005801402031798840941613400880756869573107155,\n",
       " 0.340000000000000: 0.50000000000000001426539986094087959065874296727438171153230,\n",
       " 0.350000000000000: 0.50000000000000009725725629367333917160096225572959853239040,\n",
       " 0.360000000000000: 0.49999999999999995308062782046735135938546742690320579068813,\n",
       " 0.370000000000000: 0.50000000000000007351786428467897568540721320167256710942656,\n",
       " 0.380000000000000: 0.50000000000000007303907685510132204685464423974984152034152,\n",
       " 0.390000000000000: 0.49999999999999993875141563921751161257031187670761932314918,\n",
       " 0.400000000000000: 0.49999999999999996717223851490497537824678365826394505952373,\n",
       " 0.410000000000000: 0.50000000000000004246086506230716368516479270758054988791964,\n",
       " 0.420000000000000: 0.49999999999999999829352603930415055277796764241974264740415,\n",
       " 0.430000000000000: 0.49999999999999996850205651228373322315980753492737855852843,\n",
       " 0.440000000000000: 0.49999999999999993873505799929314743396292291161894944619266,\n",
       " 0.450000000000000: 0.49999999999999994049526612820165986414642804884597569747529,\n",
       " 0.460000000000000: 0.49999999999999993518938284489509145023202292902952555113596,\n",
       " 0.470000000000000: 0.49999999999999994894123330475811849399969573103337542686853,\n",
       " 0.480000000000000: 0.50000000000000005515236573715428919159133062456845290872525,\n",
       " 0.490000000000000: 0.49999999999999991290419828295402390661100237978767431965527,\n",
       " 0.500000000000000: 0.49999999999999997518342586173590757965063483895668164985810,\n",
       " 0.510000000000000: 0.49999999999999992922967147449071099378585598425728732213117,\n",
       " 0.520000000000000: 0.49999999999999996023427658395656043528280093557104947126847,\n",
       " 0.530000000000000: 0.50000000000000002478986970124948614436395544051288413887810,\n",
       " 0.540000000000000: 0.49999999999999991567253977556796531877961867482317659439676,\n",
       " 0.550000000000000: 0.49999999999999989389625538188524232661004968423704766152230,\n",
       " 0.560000000000000: 0.50000000000000001485932660517925475521430883208647543860707,\n",
       " 0.570000000000000: 0.49999999999999973548406850308822001578475948306359087732718,\n",
       " 0.580000000000000: 0.49999999999999708219591462262344741022777438262398111527865,\n",
       " 0.590000000000000: 0.49999999999996233987231907408713485181597207668721998883796,\n",
       " 0.600000000000000: 0.49999999999961846769011488431661184206209341753103583653988,\n",
       " 0.610000000000000: 0.49999999999681522052050382771436866854330405069359550343636,\n",
       " 0.620000000000000: 0.49999999997764744915480589395082806095538578758535591813571,\n",
       " 0.630000000000000: 0.49999999986592074173261009649458362966032219299265318272139,\n",
       " 0.640000000000000: 0.49999999930261705806047787524597530257077095300827523921351,\n",
       " 0.650000000000000: 0.49999999681376168812740905672893775792363469523093104213434,\n",
       " 0.660000000000000: 0.49999998706338633479220382549694927568301712087510663083183,\n",
       " 0.670000000000000: 0.49999995283487735837616791635405672273912062543006161663744,\n",
       " 0.680000000000000: 0.49999984413613468146673056331917333935042177230331746078924,\n",
       " 0.690000000000000: 0.49999952917928098498379788116656803283242417394427849365326,\n",
       " 0.700000000000000: 0.49999869005345380298528451058250346330642078753999568245646,\n",
       " 0.710000000000000: 0.49999661995824095263762542493823642952280658551064934603345,\n",
       " 0.720000000000000: 0.49999186122920478847219536955404986032962041053280602431307,\n",
       " 0.730000000000000: 0.49998160891337000767961025628975467381530951007358054363585,\n",
       " 0.740000000000000: 0.49996080017913434763536224817176884805068145546863801391441,\n",
       " 0.750000000000000: 0.49992082251115273120198260227804106447851531234968651277878,\n",
       " 0.760000000000000: 0.49984780839434223430743296278291942715735362609794115948312,\n",
       " 0.770000000000000: 0.49972054134292883076099598758540492967708785894354258004184,\n",
       " 0.780000000000000: 0.49950807195788486750987750330602038101072487479109888898880,\n",
       " 0.790000000000000: 0.49916722179649760595743305569679790140030149625373049735334,\n",
       " 0.800000000000000: 0.49864022229962705397020833471694584124638637605704688633147,\n",
       " 0.810000000000000: 0.49785278081603135497468901627710725230686204144021761678800,\n",
       " 0.820000000000000: 0.49671287433518967937957198929616412805594338012322383385069,\n",
       " 0.830000000000000: 0.49511053856578893573343391918621499550539051020598748819104,\n",
       " 0.840000000000000: 0.49291884758479658141407985595115659909853463468962700422863,\n",
       " 0.850000000000000: 0.48999617643298947953924480867287945995088341414163041006822,\n",
       " 0.860000000000000: 0.48618971966128949060358376777664313308952685855251908235791,\n",
       " 0.870000000000000: 0.48134011897293971337932344619253958261049470095349149106478,\n",
       " 0.880000000000000: 0.47528694802724180578807073468613206491583865778930484151633,\n",
       " 0.890000000000000: 0.46787472429633265478746811849742299493000637811263479253409,\n",
       " 0.900000000000000: 0.45895907408905777677113113370668433637605422944888472515783,\n",
       " 0.910000000000000: 0.44841266983895501665736363636327300145454755363605549659473,\n",
       " 0.920000000000000: 0.43613058612385131480840056209588720154776949451307215461167,\n",
       " 0.930000000000000: 0.42203477656321284382756186085231067176951702940271655059492,\n",
       " 0.940000000000000: 0.40607744930671470503815075954467136495381156248224099542226,\n",
       " 0.950000000000000: 0.38824320494403273786161957140806007459734073605876150885946,\n",
       " 0.960000000000000: 0.36854988832635229629437377181592622864874464563274858668713,\n",
       " 0.970000000000000: 0.34704818727472742199249814559071842684046544088229405454444,\n",
       " 0.980000000000000: 0.32382008061716080958486742431314253130664887888551951798165,\n",
       " 0.990000000000000: 0.29897629172371273686796434567428869738947240993902539394090,\n",
       " 1.00000000000000: 0.27265294004515162868702986620237823756033585341907917461363}"
      ]
     },
     "execution_count": 151,
     "metadata": {},
     "output_type": "execute_result"
    }
   ],
   "source": [
    "Fd = RealField(200)\n",
    "eta_test = 3\n",
    "sigma_min = 0.01\n",
    "sigma_diff = 0.01\n",
    "sigma_max = 1\n",
    "\n",
    "# TODO: Hack - fix this using np.linspace\n",
    "sigma_rng = [0.01, 0.02, 0.03, 0.04, 0.05, 0.06, 0.07, 0.08, 0.09, 0.1 , 0.11,\n",
    "       0.12, 0.13, 0.14, 0.15, 0.16, 0.17, 0.18, 0.19, 0.2 , 0.21, 0.22,\n",
    "       0.23, 0.24, 0.25, 0.26, 0.27, 0.28, 0.29, 0.3 , 0.31, 0.32, 0.33,\n",
    "       0.34, 0.35, 0.36, 0.37, 0.38, 0.39, 0.4 , 0.41, 0.42, 0.43, 0.44,\n",
    "       0.45, 0.46, 0.47, 0.48, 0.49, 0.5 , 0.51, 0.52, 0.53, 0.54, 0.55,\n",
    "       0.56, 0.57, 0.58, 0.59, 0.6 , 0.61, 0.62, 0.63, 0.64, 0.65, 0.66,\n",
    "       0.67, 0.68, 0.69, 0.7 , 0.71, 0.72, 0.73, 0.74, 0.75, 0.76, 0.77,\n",
    "       0.78, 0.79, 0.8 , 0.81, 0.82, 0.83, 0.84, 0.85, 0.86, 0.87, 0.88,\n",
    "       0.89, 0.9 , 0.91, 0.92, 0.93, 0.94, 0.95, 0.96, 0.97, 0.98, 0.99,\n",
    "       1.  ]\n",
    "\n",
    "# Check high precision derivative calculations for various values of sigma, for eta = eta_test\n",
    "out_vals = {sig_val : Fd(J_sigma_d1_simplify.substitute(eta = eta_test, sigma = sig_val)) \n",
    "            for sig_val in sigma_rng}\n",
    "out_vals"
   ]
  },
  {
   "cell_type": "code",
   "execution_count": 102,
   "id": "81bdf098-afb3-4304-aed8-253688b567bc",
   "metadata": {},
   "outputs": [
    {
     "data": {
      "text/html": [
       "<html>\\[\\newcommand{\\Bold}[1]{\\mathbf{#1}}\\sigma \\ {\\mapsto}\\ \\sqrt{2} \\sqrt{\\pi} {\\left(\\sigma^{4} - \\eta^{2}\\right)} \\eta \\operatorname{erf}\\left(\\frac{\\sqrt{2} \\eta}{2 \\, \\sigma^{2}}\\right) e^{\\left(\\frac{\\eta^{2}}{2 \\, \\sigma^{4}}\\right)} - 2 \\, \\eta^{2} \\sigma^{2}\\]</html>"
      ],
      "text/latex": [
       "$$\\newcommand{\\Bold}[1]{\\mathbf{#1}}\\sigma \\ {\\mapsto}\\ \\sqrt{2} \\sqrt{\\pi} {\\left(\\sigma^{4} - \\eta^{2}\\right)} \\eta \\operatorname{erf}\\left(\\frac{\\sqrt{2} \\eta}{2 \\, \\sigma^{2}}\\right) e^{\\left(\\frac{\\eta^{2}}{2 \\, \\sigma^{4}}\\right)} - 2 \\, \\eta^{2} \\sigma^{2}$$"
      ],
      "text/plain": [
       "sigma |--> sqrt(2)*sqrt(pi)*(sigma^4 - eta^2)*eta*erf(1/2*sqrt(2)*eta/sigma^2)*e^(1/2*eta^2/sigma^4) - 2*eta^2*sigma^2"
      ]
     },
     "metadata": {},
     "output_type": "display_data"
    }
   ],
   "source": [
    "K(sigma) = -2 * eta^2 * sigma^2 + (sqrt(pi) * sqrt(2) * eta * erf((eta * sqrt(2))/(2 * sigma^2)))*(sigma^4 - eta^2)*exp((eta^2)/(2 * sigma^4))\n",
    "show(K)"
   ]
  },
  {
   "cell_type": "code",
   "execution_count": 103,
   "id": "d56659b9-23e0-4853-a0b4-ac852ea82d5a",
   "metadata": {},
   "outputs": [
    {
     "data": {
      "text/html": [
       "<html>\\[\\newcommand{\\Bold}[1]{\\mathbf{#1}}\\sigma \\ {\\mapsto}\\ \\sqrt{2} \\sqrt{\\pi} {\\left(\\sigma^{4} - 1\\right)} \\operatorname{erf}\\left(\\frac{\\sqrt{2}}{2 \\, \\sigma^{2}}\\right) e^{\\left(\\frac{1}{2 \\, \\sigma^{4}}\\right)} - 2 \\, \\sigma^{2}\\]</html>"
      ],
      "text/latex": [
       "$$\\newcommand{\\Bold}[1]{\\mathbf{#1}}\\sigma \\ {\\mapsto}\\ \\sqrt{2} \\sqrt{\\pi} {\\left(\\sigma^{4} - 1\\right)} \\operatorname{erf}\\left(\\frac{\\sqrt{2}}{2 \\, \\sigma^{2}}\\right) e^{\\left(\\frac{1}{2 \\, \\sigma^{4}}\\right)} - 2 \\, \\sigma^{2}$$"
      ],
      "text/plain": [
       "sigma |--> sqrt(2)*sqrt(pi)*(sigma^4 - 1)*erf(1/2*sqrt(2)/sigma^2)*e^(1/2/sigma^4) - 2*sigma^2"
      ]
     },
     "metadata": {},
     "output_type": "display_data"
    }
   ],
   "source": [
    "show(K.substitute(eta = 1))"
   ]
  },
  {
   "cell_type": "code",
   "execution_count": 138,
   "id": "92492aa0-4a74-43b7-b4c2-8d2f742a2198",
   "metadata": {},
   "outputs": [
    {
     "data": {
      "image/png": "[encoded data removed]",
      "text/plain": [
       "Graphics object consisting of 1 graphics primitive"
      ]
     },
     "execution_count": 138,
     "metadata": {},
     "output_type": "execute_result"
    }
   ],
   "source": [
    "plot(K.substitute(eta = 1), (sigma, 0.01, 5))"
   ]
  },
  {
   "cell_type": "code",
   "execution_count": null,
   "id": "bb4a3c8d-23e8-4d59-a506-5b5cc14b5f44",
   "metadata": {},
   "outputs": [],
   "source": []
  }
 ],
 "metadata": {
  "kernelspec": {
   "display_name": "SageMath 9.4",
   "language": "sage",
   "name": "sagemath"
  },
  "language_info": {
   "codemirror_mode": {
    "name": "ipython",
    "version": 3
   },
   "file_extension": ".py",
   "mimetype": "text/x-python",
   "name": "python",
   "nbconvert_exporter": "python",
   "pygments_lexer": "ipython3",
   "version": "3.9.6"
  }
 },
 "nbformat": 4,
 "nbformat_minor": 5
}
