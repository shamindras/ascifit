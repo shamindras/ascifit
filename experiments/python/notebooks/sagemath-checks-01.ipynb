{
 "cells": [
  {
   "cell_type": "code",
   "execution_count": 1,
   "id": "f2847e16-7252-4008-af77-dfb8a0861a0e",
   "metadata": {},
   "outputs": [
    {
     "data": {
      "text/html": [
       "<html>\\[\\newcommand{\\Bold}[1]{\\mathbf{#1}}\\frac{c_{1}}{c_{2}}\\]</html>"
      ],
      "text/latex": [
       "$$\\newcommand{\\Bold}[1]{\\mathbf{#1}}\\frac{c_{1}}{c_{2}}$$"
      ],
      "text/plain": [
       "c_1/c_2"
      ]
     },
     "metadata": {},
     "output_type": "display_data"
    }
   ],
   "source": [
    "t = var('t')\n",
    "v = var('c_1', domain='positive')\n",
    "b = var('c_2', domain='positive')\n",
    "f = c_1 * exp(-(c_2)*t)\n",
    "show(f.integral(t, 0, infinity))"
   ]
  },
  {
   "cell_type": "markdown",
   "id": "f4f9db28-5fa2-4159-ba50-1059fcbf1df7",
   "metadata": {},
   "source": [
    "# Moment generating function - Gaussian"
   ]
  },
  {
   "cell_type": "code",
   "execution_count": 2,
   "id": "47512c3a-3e36-49cf-90a1-0c6e76bb3fda",
   "metadata": {},
   "outputs": [
    {
     "data": {
      "text/html": [
       "<html>\\[\\newcommand{\\Bold}[1]{\\mathbf{#1}}\\frac{\\sqrt{2} e^{\\left(-\\frac{{\\left(\\mu - x\\right)}^{2}}{2 \\, \\sigma^{2}}\\right)}}{2 \\, \\sqrt{\\pi} \\sigma}\\]</html>"
      ],
      "text/latex": [
       "$$\\newcommand{\\Bold}[1]{\\mathbf{#1}}\\frac{\\sqrt{2} e^{\\left(-\\frac{{\\left(\\mu - x\\right)}^{2}}{2 \\, \\sigma^{2}}\\right)}}{2 \\, \\sqrt{\\pi} \\sigma}$$"
      ],
      "text/plain": [
       "1/2*sqrt(2)*e^(-1/2*(mu - x)^2/sigma^2)/(sqrt(pi)*sigma)"
      ]
     },
     "metadata": {},
     "output_type": "display_data"
    }
   ],
   "source": [
    "var('mu, sigma')\n",
    "assume(sigma>0)\n",
    "assume(mu, 'real')\n",
    "f(x) = 1/(sigma*sqrt(2*pi)) * exp(-(x-mu)^2/(2*sigma^2))\n",
    "show(f(x))"
   ]
  },
  {
   "cell_type": "code",
   "execution_count": 3,
   "id": "a3750eed-41ec-41ee-8438-569e1dcf9e00",
   "metadata": {},
   "outputs": [
    {
     "data": {
      "text/html": [
       "<html>\\[\\newcommand{\\Bold}[1]{\\mathbf{#1}}e^{\\left(\\frac{1}{2} \\, \\sigma^{2} t^{2} + \\mu t\\right)}\\]</html>"
      ],
      "text/latex": [
       "$$\\newcommand{\\Bold}[1]{\\mathbf{#1}}e^{\\left(\\frac{1}{2} \\, \\sigma^{2} t^{2} + \\mu t\\right)}$$"
      ],
      "text/plain": [
       "e^(1/2*sigma^2*t^2 + mu*t)"
      ]
     },
     "metadata": {},
     "output_type": "display_data"
    }
   ],
   "source": [
    "# Moment-generating function M(t) = E(e^{Xt})\n",
    "var('t')\n",
    "assume(t > 0)\n",
    "f(x) \n",
    "M(t) = simplify(integrate(exp(x*t)*f(x),x,-Infinity,Infinity))\n",
    "show(M(t))"
   ]
  },
  {
   "cell_type": "code",
   "execution_count": 4,
   "id": "7ed6b3eb-d455-4c33-b36a-702ca3db1ce7",
   "metadata": {},
   "outputs": [
    {
     "data": {
      "text/html": [
       "<html>\\[\\newcommand{\\Bold}[1]{\\mathbf{#1}}\\mu\\]</html>"
      ],
      "text/latex": [
       "$$\\newcommand{\\Bold}[1]{\\mathbf{#1}}\\mu$$"
      ],
      "text/plain": [
       "mu"
      ]
     },
     "metadata": {},
     "output_type": "display_data"
    }
   ],
   "source": [
    "e_x = integrate(x*f(x),x,-Infinity,Infinity)\n",
    "show(simplify(e_x))"
   ]
  },
  {
   "cell_type": "code",
   "execution_count": 5,
   "id": "ee7ac0e6-37e5-43f2-934e-ffe234bf9819",
   "metadata": {},
   "outputs": [
    {
     "data": {
      "text/html": [
       "<html>\\[\\newcommand{\\Bold}[1]{\\mathbf{#1}}\\sigma^{2}\\]</html>"
      ],
      "text/latex": [
       "$$\\newcommand{\\Bold}[1]{\\mathbf{#1}}\\sigma^{2}$$"
      ],
      "text/plain": [
       "sigma^2"
      ]
     },
     "metadata": {},
     "output_type": "display_data"
    }
   ],
   "source": [
    "assume(sigma>0)\n",
    "assume(mu > 0) # Not sure why we need this\n",
    "v_x = integrate((x-mu)^2*f(x),x,-oo,oo)\n",
    "show(simplify(v_x))"
   ]
  },
  {
   "cell_type": "code",
   "execution_count": 6,
   "id": "b4e83e1f-ca7a-4a76-9014-61ca779166fb",
   "metadata": {},
   "outputs": [
    {
     "data": {
      "text/html": [
       "<html>\\[\\newcommand{\\Bold}[1]{\\mathbf{#1}}\\mu^{2} + \\sigma^{2}\\]</html>"
      ],
      "text/latex": [
       "$$\\newcommand{\\Bold}[1]{\\mathbf{#1}}\\mu^{2} + \\sigma^{2}$$"
      ],
      "text/plain": [
       "mu^2 + sigma^2"
      ]
     },
     "metadata": {},
     "output_type": "display_data"
    }
   ],
   "source": [
    "# Differentiate four times, set t=0 to get E(X^4)\n",
    "e_x_2 = derivative(M(t),t,2)(t=0)\n",
    "show(e_x_2)"
   ]
  },
  {
   "cell_type": "code",
   "execution_count": 7,
   "id": "818220a5-4525-426b-8fe0-178835d42c53",
   "metadata": {},
   "outputs": [
    {
     "data": {
      "text/html": [
       "<html>\\[\\newcommand{\\Bold}[1]{\\mathbf{#1}}\\mu^{4} + 6 \\, \\mu^{2} \\sigma^{2} + 3 \\, \\sigma^{4}\\]</html>"
      ],
      "text/latex": [
       "$$\\newcommand{\\Bold}[1]{\\mathbf{#1}}\\mu^{4} + 6 \\, \\mu^{2} \\sigma^{2} + 3 \\, \\sigma^{4}$$"
      ],
      "text/plain": [
       "mu^4 + 6*mu^2*sigma^2 + 3*sigma^4"
      ]
     },
     "metadata": {},
     "output_type": "display_data"
    }
   ],
   "source": [
    "# Differentiate four times, set t=0 to get E(X^4)\n",
    "e_x_4 = derivative(M(t),t,4)(t=0)\n",
    "show(e_x_4)"
   ]
  },
  {
   "cell_type": "code",
   "execution_count": 8,
   "id": "4f4036ee-e3e3-492e-837a-3af8f6fb9c7c",
   "metadata": {},
   "outputs": [
    {
     "data": {
      "text/html": [
       "<html>\\[\\newcommand{\\Bold}[1]{\\mathbf{#1}}4 \\, \\mu^{2} \\sigma^{2} + 2 \\, \\sigma^{4}\\]</html>"
      ],
      "text/latex": [
       "$$\\newcommand{\\Bold}[1]{\\mathbf{#1}}4 \\, \\mu^{2} \\sigma^{2} + 2 \\, \\sigma^{4}$$"
      ],
      "text/plain": [
       "4*mu^2*sigma^2 + 2*sigma^4"
      ]
     },
     "metadata": {},
     "output_type": "display_data"
    }
   ],
   "source": [
    "var_t = e_x_4 - e_x_2^(2)\n",
    "show(expand(var_t))"
   ]
  },
  {
   "cell_type": "code",
   "execution_count": 9,
   "id": "901d45db-3f0e-441a-be95-d62cf4d4a3c4",
   "metadata": {},
   "outputs": [],
   "source": [
    "variance = 1\n",
    "gaussian = RealDistribution('gaussian', variance)"
   ]
  },
  {
   "cell_type": "code",
   "execution_count": 10,
   "id": "a1ebc5a2-aae8-4364-9a93-fe470bdb19ce",
   "metadata": {},
   "outputs": [
    {
     "data": {
      "text/plain": [
       "1.0"
      ]
     },
     "execution_count": 10,
     "metadata": {},
     "output_type": "execute_result"
    }
   ],
   "source": [
    "gaussian.cum_distribution_function(Infinity)"
   ]
  },
  {
   "cell_type": "markdown",
   "id": "0f718ed2-575e-4a25-ba4c-f65a803d9ed8",
   "metadata": {},
   "source": [
    "# Gaussian distribution"
   ]
  },
  {
   "cell_type": "markdown",
   "id": "36e62f9a-8d2c-4da3-9a91-a69358f08123",
   "metadata": {},
   "source": [
    "## Setup the PDF of a univariate $X \\sim \\mathcal{N}(\\mu,\\sigma^{2})$ distributed random variable\n",
    "\n",
    "**Credits:**\n",
    "- This uses [these slides}(http://www.utstat.utoronto.ca/~brunner/workshops/sagemath/SageMathIntro.pdf) from Prof. Jerry Bruner on Sagemath in Statistics"
   ]
  },
  {
   "cell_type": "markdown",
   "id": "73f1e3b9-310b-4f22-8e6d-a09be9f79438",
   "metadata": {},
   "source": [
    "var('mu, sigma')\n",
    "assume(sigma > 0)\n",
    "assume(mu, 'real')\n",
    "f(x) = simplify(1/(sigma*sqrt(2*pi)) * exp(-(x-mu)^2/(2*sigma^2)))\n",
    "show(f(x))"
   ]
  },
  {
   "cell_type": "code",
   "execution_count": 11,
   "id": "98e9b162-3f48-4029-91f2-ad966fe49cc0",
   "metadata": {},
   "outputs": [
    {
     "data": {
      "text/html": [
       "<html>\\[\\newcommand{\\Bold}[1]{\\mathbf{#1}}\\frac{\\sqrt{2} e^{\\left(-\\frac{1}{2} \\, x^{2}\\right)}}{2 \\, \\sqrt{\\pi}}\\]</html>"
      ],
      "text/latex": [
       "$$\\newcommand{\\Bold}[1]{\\mathbf{#1}}\\frac{\\sqrt{2} e^{\\left(-\\frac{1}{2} \\, x^{2}\\right)}}{2 \\, \\sqrt{\\pi}}$$"
      ],
      "text/plain": [
       "1/2*sqrt(2)*e^(-1/2*x^2)/sqrt(pi)"
      ]
     },
     "metadata": {},
     "output_type": "display_data"
    }
   ],
   "source": [
    "var('x')\n",
    "assume(x, 'real')\n",
    "f(x) = simplify(1/(sqrt(2*pi)) * exp(-(x)^2/(2)))\n",
    "show(f(x))"
   ]
  },
  {
   "cell_type": "markdown",
   "id": "db7c246e-5b61-4547-9868-5cf54788e6cf",
   "metadata": {},
   "source": [
    "Looks like that is working, though with a rational numerator. But that is fine."
   ]
  },
  {
   "cell_type": "markdown",
   "id": "ba958c06-38bb-4d59-8204-eaba3c00eeae",
   "metadata": {},
   "source": [
    "## Setup the CDF of a univariate $X \\sim \\mathcal{N}(\\mu,\\sigma^{2})$ distributed random variable"
   ]
  },
  {
   "cell_type": "code",
   "execution_count": 12,
   "id": "115291da-d196-4186-9784-dd770b3d0dd1",
   "metadata": {},
   "outputs": [
    {
     "data": {
      "text/html": [
       "<html>\\[\\newcommand{\\Bold}[1]{\\mathbf{#1}}\\frac{\\sqrt{2} {\\left(\\sqrt{2} \\sqrt{\\pi} \\operatorname{erf}\\left(\\frac{1}{2} \\, \\sqrt{2} x\\right) + \\sqrt{2} \\sqrt{\\pi}\\right)}}{4 \\, \\sqrt{\\pi}}\\]</html>"
      ],
      "text/latex": [
       "$$\\newcommand{\\Bold}[1]{\\mathbf{#1}}\\frac{\\sqrt{2} {\\left(\\sqrt{2} \\sqrt{\\pi} \\operatorname{erf}\\left(\\frac{1}{2} \\, \\sqrt{2} x\\right) + \\sqrt{2} \\sqrt{\\pi}\\right)}}{4 \\, \\sqrt{\\pi}}$$"
      ],
      "text/plain": [
       "1/4*sqrt(2)*(sqrt(2)*sqrt(pi)*erf(1/2*sqrt(2)*x) + sqrt(2)*sqrt(pi))/sqrt(pi)"
      ]
     },
     "metadata": {},
     "output_type": "display_data"
    }
   ],
   "source": [
    "F(x) = integrate(f(t),t,-Infinity,x)\n",
    "show(F(x))"
   ]
  },
  {
   "cell_type": "markdown",
   "id": "bba221ac-5eab-4b45-ad3a-3f469dc86610",
   "metadata": {},
   "source": [
    "This is in a slightly different form to what we typically use, i.e., just left in terms of the integral definition.\n",
    "\n",
    "Let's test it out at extreme points $x \\in {-\\infty, 0, \\infty}$."
   ]
  },
  {
   "cell_type": "code",
   "execution_count": 13,
   "id": "d38043bc-f3a1-42e9-a4e2-8f80b5139840",
   "metadata": {},
   "outputs": [
    {
     "name": "stdout",
     "output_type": "stream",
     "text": [
      "F(x) evaluated at x = -Inf: 0\n",
      "F(x) evaluated at x = 0: 1/2\n",
      "F(x) evaluated at x = Inf: 1\n"
     ]
    }
   ],
   "source": [
    "print(f\"F(x) evaluated at x = -Inf: {simplify(F(-Infinity))}\")\n",
    "print(f\"F(x) evaluated at x = 0: {simplify(F(0))}\")\n",
    "print(f\"F(x) evaluated at x = Inf: {simplify(F(Infinity))}\")"
   ]
  },
  {
   "cell_type": "markdown",
   "id": "c21acf9d-dabc-458e-ad5d-f69c2aa3d7bd",
   "metadata": {},
   "source": [
    "Looks like that is working as expected. We should really plot this function over it's support $[-\\infty, \\infty]$."
   ]
  },
  {
   "cell_type": "code",
   "execution_count": 14,
   "id": "751d4b66-c3c6-46cc-90e8-35235eaa4798",
   "metadata": {},
   "outputs": [
    {
     "data": {
      "image/png": "[encoded data removed]",
      "text/plain": [
       "Graphics object consisting of 1 graphics primitive"
      ]
     },
     "execution_count": 14,
     "metadata": {},
     "output_type": "execute_result"
    }
   ],
   "source": [
    "plot(F(x), x, (-5,5),\n",
    "     figsize=(4,4),\n",
    "     title=\"The CDF of N(0, 1)\",)"
   ]
  },
  {
   "cell_type": "markdown",
   "id": "c99045d5-6297-4197-8478-b3c015910f10",
   "metadata": {},
   "source": [
    "Looks reasonable! Let's keep going!"
   ]
  },
  {
   "cell_type": "markdown",
   "id": "9b461364-4f73-4c30-83d7-ab97d062794c",
   "metadata": {},
   "source": [
    "## Solving an inequality"
   ]
  },
  {
   "cell_type": "markdown",
   "id": "fb0c60de-8089-45a2-a478-1bfe46722a93",
   "metadata": {},
   "source": [
    "Let's define our function $g(\\nu) := \\sqrt{\\nu^{2}+\\frac{2}{\\pi}} - \\nu(2 \\Phi(\\nu)-1) - \\sqrt{\\frac{2}{\\pi}} e^{-\\nu^{2} / 2}$"
   ]
  },
  {
   "cell_type": "code",
   "execution_count": 15,
   "id": "8f16ce03-ebb2-424c-991d-292ba62a46ff",
   "metadata": {},
   "outputs": [
    {
     "data": {
      "text/html": [
       "<html>\\[\\newcommand{\\Bold}[1]{\\mathbf{#1}}-\\frac{1}{2} \\, {\\left(\\frac{\\sqrt{2} {\\left(\\sqrt{2} \\sqrt{\\pi} \\operatorname{erf}\\left(\\frac{1}{2} \\, \\sqrt{2} v\\right) + \\sqrt{2} \\sqrt{\\pi}\\right)}}{\\sqrt{\\pi}} - 2\\right)} v - \\frac{\\sqrt{2} e^{\\left(-\\frac{1}{2} \\, v^{2}\\right)}}{\\sqrt{\\pi}} + \\sqrt{v^{2} + \\frac{2}{\\pi}}\\]</html>"
      ],
      "text/latex": [
       "$$\\newcommand{\\Bold}[1]{\\mathbf{#1}}-\\frac{1}{2} \\, {\\left(\\frac{\\sqrt{2} {\\left(\\sqrt{2} \\sqrt{\\pi} \\operatorname{erf}\\left(\\frac{1}{2} \\, \\sqrt{2} v\\right) + \\sqrt{2} \\sqrt{\\pi}\\right)}}{\\sqrt{\\pi}} - 2\\right)} v - \\frac{\\sqrt{2} e^{\\left(-\\frac{1}{2} \\, v^{2}\\right)}}{\\sqrt{\\pi}} + \\sqrt{v^{2} + \\frac{2}{\\pi}}$$"
      ],
      "text/plain": [
       "-1/2*(sqrt(2)*(sqrt(2)*sqrt(pi)*erf(1/2*sqrt(2)*v) + sqrt(2)*sqrt(pi))/sqrt(pi) - 2)*v - sqrt(2)*e^(-1/2*v^2)/sqrt(pi) + sqrt(v^2 + 2/pi)"
      ]
     },
     "metadata": {},
     "output_type": "display_data"
    }
   ],
   "source": [
    "var('v')\n",
    "assume(v > 0) #TODO: check whether we want to try assume(v, 'real')\n",
    "g(v) = sqrt(v^(2) + 2/pi) - v * (2 * F(v) - 1) - sqrt(2/pi)*exp(-v^(2)/2)\n",
    "show(g(v))"
   ]
  },
  {
   "cell_type": "code",
   "execution_count": 16,
   "id": "426d1271-a856-4701-b9be-1001662f1a1c",
   "metadata": {},
   "outputs": [
    {
     "data": {
      "text/html": [
       "<html>\\[\\newcommand{\\Bold}[1]{\\mathbf{#1}}-\\frac{\\sqrt{2} {\\left(\\sqrt{2} \\sqrt{\\pi} \\operatorname{erf}\\left(\\frac{1}{2} \\, \\sqrt{2} v\\right) + \\sqrt{2} \\sqrt{\\pi}\\right)}}{2 \\, \\sqrt{\\pi}} + \\frac{v}{\\sqrt{v^{2} + \\frac{2}{\\pi}}} + 1\\]</html>"
      ],
      "text/latex": [
       "$$\\newcommand{\\Bold}[1]{\\mathbf{#1}}-\\frac{\\sqrt{2} {\\left(\\sqrt{2} \\sqrt{\\pi} \\operatorname{erf}\\left(\\frac{1}{2} \\, \\sqrt{2} v\\right) + \\sqrt{2} \\sqrt{\\pi}\\right)}}{2 \\, \\sqrt{\\pi}} + \\frac{v}{\\sqrt{v^{2} + \\frac{2}{\\pi}}} + 1$$"
      ],
      "text/plain": [
       "-1/2*sqrt(2)*(sqrt(2)*sqrt(pi)*erf(1/2*sqrt(2)*v) + sqrt(2)*sqrt(pi))/sqrt(pi) + v/sqrt(v^2 + 2/pi) + 1"
      ]
     },
     "metadata": {},
     "output_type": "display_data"
    }
   ],
   "source": [
    "g_d_1(v) = derivative(g(v), v, 1)\n",
    "show(simplify(g_d_1(v)))"
   ]
  },
  {
   "cell_type": "markdown",
   "id": "7b269bb8-8c3a-434f-a7e7-ab2438d912d8",
   "metadata": {},
   "source": [
    "Let's check the largest term, is equivalent to $-2 \\Phi(v)$, as per our hand calculations. \n",
    "So we can just check that the $g^{\\prime}(v) - 1 - \\frac{v}{\\sqrt{v^2 + \\frac{2}{pi}}} = - 2 \\Phi(v)$"
   ]
  },
  {
   "cell_type": "code",
   "execution_count": 17,
   "id": "30301d3c-8669-4fbd-b4e9-ed590e785abe",
   "metadata": {},
   "outputs": [
    {
     "data": {
      "text/html": [
       "<html>\\[\\newcommand{\\Bold}[1]{\\mathbf{#1}}0\\]</html>"
      ],
      "text/latex": [
       "$$\\newcommand{\\Bold}[1]{\\mathbf{#1}}0$$"
      ],
      "text/plain": [
       "0"
      ]
     },
     "metadata": {},
     "output_type": "display_data"
    }
   ],
   "source": [
    "show(simplify(g_d_1(v) - v/(sqrt(v^(2) + 2/pi)) - 1 + 2 * F(v)))"
   ]
  },
  {
   "cell_type": "markdown",
   "id": "0dbc98cd-debc-44c9-9b4f-e9d4367e5eab",
   "metadata": {},
   "source": [
    "This seems to reconcile the hand calculations, which is a good.\n",
    "Let's try solving $g^{\\prime}(v) = 0$, to get the possible global and local extrema."
   ]
  },
  {
   "cell_type": "code",
   "execution_count": 18,
   "id": "284f737a-08a2-4314-8d16-c59b06ecde9a",
   "metadata": {},
   "outputs": [
    {
     "data": {
      "text/plain": [
       "[v == sqrt((pi*v^2 + 2)/pi)*erf(1/2*sqrt(2)*v)]"
      ]
     },
     "execution_count": 18,
     "metadata": {},
     "output_type": "execute_result"
    }
   ],
   "source": [
    "solve(simplify(g_d_1(v)) == 0, v)"
   ]
  },
  {
   "cell_type": "markdown",
   "id": "a2f5171b-db9c-4825-834a-9bdf56c99d1e",
   "metadata": {},
   "source": [
    "This is not so useful, but we can now analyze the solution in more detail.\n",
    "\n",
    "In particular, lets look at the limiting behaviour of $g^{\\prime}(v)$ as $v \\to 0^{+}$ and $v \\to + \\infty$"
   ]
  },
  {
   "cell_type": "code",
   "execution_count": 19,
   "id": "522d27b8-554f-427e-b55f-4cbff6840ad6",
   "metadata": {},
   "outputs": [
    {
     "name": "stdout",
     "output_type": "stream",
     "text": [
      "One extrema occurs at v = 0, i.e., implify(limit(g_d_1(v), v=0, dir='+')): 0\n",
      "One extrema occurs at v = Inf, i.e., limit(g_d_1(v), v=Infinity): 0\n"
     ]
    }
   ],
   "source": [
    "print(f\"One extrema occurs at v = 0, i.e., implify(limit(g_d_1(v), v=0, dir='+')): {simplify(limit(g_d_1(v), v=0, dir='+'))}\")\n",
    "print(f\"One extrema occurs at v = Inf, i.e., limit(g_d_1(v), v=Infinity): {limit(g_d_1(v), v=Infinity)}\")"
   ]
  },
  {
   "cell_type": "markdown",
   "id": "b7b1d1f9-5716-4a24-8efc-16032b887050",
   "metadata": {},
   "source": [
    "Indeed, they are both 0, and global extrema."
   ]
  },
  {
   "cell_type": "code",
   "execution_count": 20,
   "id": "d2c707e1-deef-442d-9a65-33a44bd12472",
   "metadata": {},
   "outputs": [
    {
     "data": {
      "text/html": [
       "<html>\\[\\newcommand{\\Bold}[1]{\\mathbf{#1}}-\\frac{\\sqrt{2} e^{\\left(-\\frac{1}{2} \\, v^{2}\\right)}}{\\sqrt{\\pi}} - \\frac{v^{2}}{{\\left(v^{2} + \\frac{2}{\\pi}\\right)}^{\\frac{3}{2}}} + \\frac{1}{\\sqrt{v^{2} + \\frac{2}{\\pi}}}\\]</html>"
      ],
      "text/latex": [
       "$$\\newcommand{\\Bold}[1]{\\mathbf{#1}}-\\frac{\\sqrt{2} e^{\\left(-\\frac{1}{2} \\, v^{2}\\right)}}{\\sqrt{\\pi}} - \\frac{v^{2}}{{\\left(v^{2} + \\frac{2}{\\pi}\\right)}^{\\frac{3}{2}}} + \\frac{1}{\\sqrt{v^{2} + \\frac{2}{\\pi}}}$$"
      ],
      "text/plain": [
       "-sqrt(2)*e^(-1/2*v^2)/sqrt(pi) - v^2/(v^2 + 2/pi)^(3/2) + 1/sqrt(v^2 + 2/pi)"
      ]
     },
     "metadata": {},
     "output_type": "display_data"
    }
   ],
   "source": [
    "g_d_2(v) = derivative(g(v), v, 2)\n",
    "show(simplify(g_d_2(v)))"
   ]
  },
  {
   "cell_type": "markdown",
   "id": "105857ef-4475-4e9b-bd01-3859186f1ada",
   "metadata": {},
   "source": [
    "First observe that the function $h(v) = 2\\Phi(v) - 1 = 2(\\Phi(v) - \\Phi(0))$ for each $v \\in \\mathbf{R}$, is concave, and twice differentiable. \n",
    "\n",
    "It is thus bounded by it's first derivative:\n",
    "\n",
    "\n",
    "\\begin{align*}\n",
    "    h(y) \n",
    "    & \\leq h(x) + h^{\\prime}(x) (y - x) \\text{, for all $x, y \\in \\mathbf{R}$} \\\\\n",
    "\\implies h(v)\n",
    "    & \\leq h(0) + h^{\\prime}(0) (v) \\text{, for all $v \\in \\mathbf{R}$} \\\\\n",
    "\\iff h(v)\n",
    "    & = 2(\\Phi(v) - \\Phi(0)) \\\\\n",
    "    & \\leq h(0) + h^{\\prime}(0) (v) \\text{, for all $v \\in \\mathbf{R}$} \\\\\n",
    "    & \\leq 2 v \\phi(0) \\text{, for all $v \\in \\mathbf{R}$}        \n",
    "\\end{align*}"
   ]
  },
  {
   "cell_type": "code",
   "execution_count": 21,
   "id": "0df98741-78bc-4606-b45c-4ffc0ef73511",
   "metadata": {},
   "outputs": [
    {
     "name": "stderr",
     "output_type": "stream",
     "text": [
      "/var/folders/b9/_ttxrgcn6t945cyff01hmfkr0000gn/T/ipykernel_35332/2400101920.py:3: DeprecationWarning: Substitution using function-call syntax and unnamed arguments is deprecated and will be removed from a future release of Sage; you can use named arguments instead, like EXPR(x=..., y=...)\n",
      "See http://trac.sagemath.org/5930 for details.\n",
      "  show(simplify(v*h_d_1(Integer(0))))\n"
     ]
    },
    {
     "data": {
      "text/html": [
       "<html>\\[\\newcommand{\\Bold}[1]{\\mathbf{#1}}\\frac{\\sqrt{2} v}{\\sqrt{\\pi}}\\]</html>"
      ],
      "text/latex": [
       "$$\\newcommand{\\Bold}[1]{\\mathbf{#1}}\\frac{\\sqrt{2} v}{\\sqrt{\\pi}}$$"
      ],
      "text/plain": [
       "sqrt(2)*v/sqrt(pi)"
      ]
     },
     "metadata": {},
     "output_type": "display_data"
    }
   ],
   "source": [
    "h(v) = 2 * F(v) - 1\n",
    "h_d_1 = derivative(h(v), v, Integer(1))\n",
    "show(simplify(v*h_d_1(0)))"
   ]
  },
  {
   "cell_type": "code",
   "execution_count": null,
   "id": "ddc39959-5b95-4bae-ac05-6716fb822b0b",
   "metadata": {},
   "outputs": [],
   "source": []
  }
 ],
 "metadata": {
  "kernelspec": {
   "display_name": "SageMath 9.4",
   "language": "sage",
   "name": "sagemath"
  },
  "language_info": {
   "codemirror_mode": {
    "name": "ipython",
    "version": 3
   },
   "file_extension": ".py",
   "mimetype": "text/x-python",
   "name": "python",
   "nbconvert_exporter": "python",
   "pygments_lexer": "ipython3",
   "version": "3.9.6"
  }
 },
 "nbformat": 4,
 "nbformat_minor": 5
}
